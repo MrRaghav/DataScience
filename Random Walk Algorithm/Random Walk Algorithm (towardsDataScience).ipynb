{
 "cells": [
  {
   "cell_type": "markdown",
   "metadata": {},
   "source": [
    "Self study and practice for M.Sc. Project"
   ]
  },
  {
   "cell_type": "markdown",
   "metadata": {},
   "source": [
    "https://towardsdatascience.com/similarity-of-documents-with-random-walks-98f94fd2c76c"
   ]
  },
  {
   "cell_type": "code",
   "execution_count": 27,
   "metadata": {},
   "outputs": [],
   "source": [
    "import numpy as np\n",
    "\n",
    "\n",
    "M = np.array([\n",
    "    [0, 0, 0, 1./3., 0.5],\n",
    "    [0, 0, 0, 1./3., 0],\n",
    "    [0, 0, 0, 1./3., 0.5],\n",
    "    [0.5, 1, 0.5, 0, 0],\n",
    "    [0.5, 0, 0.5, 0, 0]\n",
    "])"
   ]
  },
  {
   "cell_type": "code",
   "execution_count": 46,
   "metadata": {},
   "outputs": [],
   "source": [
    "v = np.array([1., .0, .0, .0, .0]) # starting point\n",
    "#n=8,20,3 any \n",
    "for step in range(4):\n",
    "    v = np.dot(M, v)"
   ]
  },
  {
   "cell_type": "code",
   "execution_count": 47,
   "metadata": {},
   "outputs": [
    {
     "name": "stdout",
     "output_type": "stream",
     "text": [
      "[0.40277778 0.19444444 0.40277778 0.         0.        ]\n"
     ]
    }
   ],
   "source": [
    "print(v)"
   ]
  },
  {
   "cell_type": "markdown",
   "metadata": {},
   "source": [
    "40.3% probability of first place, 19.4% for second, 40.3% for third place"
   ]
  }
 ],
 "metadata": {
  "kernelspec": {
   "display_name": "Python 3",
   "language": "python",
   "name": "python3"
  },
  "language_info": {
   "codemirror_mode": {
    "name": "ipython",
    "version": 3
   },
   "file_extension": ".py",
   "mimetype": "text/x-python",
   "name": "python",
   "nbconvert_exporter": "python",
   "pygments_lexer": "ipython3",
   "version": "3.7.4"
  }
 },
 "nbformat": 4,
 "nbformat_minor": 2
}
