{
 "cells": [
  {
   "cell_type": "code",
   "execution_count": 2,
   "metadata": {},
   "outputs": [],
   "source": [
    "import random \n",
    "import numpy as np \n",
    "import matplotlib.pyplot as plt "
   ]
  },
  {
   "cell_type": "markdown",
   "metadata": {},
   "source": [
    "https://stackoverflow.com/questions/37052140/1d-random-walk-from-matlab-to-python\n",
    "\n",
    "https://www.geeksforgeeks.org/random-walk-implementation-python/\n",
    "    \n",
    "Random Walk (Implementation in Python)"
   ]
  },
  {
   "cell_type": "code",
   "execution_count": 36,
   "metadata": {},
   "outputs": [
    {
     "data": {
      "image/png": "[encoded data removed]",
      "text/plain": [
       "<Figure size 432x288 with 1 Axes>"
      ]
     },
     "metadata": {
      "needs_background": "light"
     },
     "output_type": "display_data"
    }
   ],
   "source": [
    "# Python code for 1-D random walk. \n",
    "import random \n",
    "import numpy as np \n",
    "import matplotlib.pyplot as plt \n",
    "  \n",
    "# Probability to move up or down \n",
    "prob = [0.01, 0.99]   #Raghvendra\n",
    "#prob = [0.05, 0.95]   \n",
    "  \n",
    "# statically defining the starting position \n",
    "#start = 2\n",
    "start = 1 #Raghvendra\n",
    "positions = [start] \n",
    "  \n",
    "# creating the random points \n",
    "rr = np.random.random(1000) \n",
    "downp = rr < prob[1] #Raghvendra\n",
    "upp = rr > prob[0] #Raghvendra\n",
    "\n",
    "#downp = rr < prob[0] \n",
    "#upp = rr > prob[1] \n",
    "  \n",
    "  \n",
    "for idownp, iupp in zip(downp, upp): \n",
    "    down = idownp and positions[-1] > 1\n",
    "    up = iupp and positions[-1] < 4\n",
    "    positions.append(positions[-1] - down + up) \n",
    "  \n",
    "# plotting down the graph of the random walk in 1D \n",
    "plt.plot(positions) \n",
    "plt.show() "
   ]
  },
  {
   "cell_type": "code",
   "execution_count": null,
   "metadata": {},
   "outputs": [],
   "source": []
  }
 ],
 "metadata": {
  "kernelspec": {
   "display_name": "Python 3",
   "language": "python",
   "name": "python3"
  },
  "language_info": {
   "codemirror_mode": {
    "name": "ipython",
    "version": 3
   },
   "file_extension": ".py",
   "mimetype": "text/x-python",
   "name": "python",
   "nbconvert_exporter": "python",
   "pygments_lexer": "ipython3",
   "version": "3.7.4"
  }
 },
 "nbformat": 4,
 "nbformat_minor": 4
}
