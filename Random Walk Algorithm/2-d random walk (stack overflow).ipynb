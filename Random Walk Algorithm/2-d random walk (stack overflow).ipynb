{
 "cells": [
  {
   "cell_type": "markdown",
   "metadata": {},
   "source": [
    "reference: https://stackoverflow.com/questions/17322041/visualizing-a-2d-random-walk-in-python"
   ]
  },
  {
   "cell_type": "markdown",
   "metadata": {},
   "source": [
    "self practice"
   ]
  },
  {
   "cell_type": "code",
   "execution_count": 28,
   "metadata": {},
   "outputs": [
    {
     "name": "stdout",
     "output_type": "stream",
     "text": [
      "[[0, 0, 0, 0, -1, -1, -1, -1, -1, -2, -2, -2, -2, -2, -2, -2, -2, -2, -2, -3, -3, -2, -2, -3, -2, -2], [0, -1, -2, -3, -3, -4, -5, -6, -7, -7, -8, -9, -10, -11, -12, -13, -14, -15, -16, -16, -17, -17, -18, -18, -18, -19]]\n"
     ]
    },
    {
     "data": {
      "image/png": "[encoded data removed]",
      "text/plain": [
       "<Figure size 432x288 with 1 Axes>"
      ]
     },
     "metadata": {
      "needs_background": "light"
     },
     "output_type": "display_data"
    }
   ],
   "source": [
    "%matplotlib inline \n",
    "import numpy as np\n",
    "import matplotlib.pyplot as plt\n",
    "import random\n",
    "def randomWalkb(length):\n",
    "    steps = []\n",
    "    x,y = 0,0\n",
    "    walkx,walky = [x],[y]\n",
    "    for i in range(length):\n",
    "\n",
    "        new = random.randint(1,9)\n",
    "        if new == 1:\n",
    "            x += 1\n",
    "        elif new == 2:\n",
    "            y += 1\n",
    "        elif new ==3 :\n",
    "            x += -1\n",
    "        else :\n",
    "            y += -1\n",
    "        walkx.append(x)\n",
    "        walky.append(y)\n",
    "    return [walkx,walky]\n",
    "\n",
    "walk = randomWalkb(25)\n",
    "print(walk)\n",
    "plt.plot(walk[0],walk[1],'ro', label= '2 dimensional random walk')\n",
    "plt.axis([-15,15,-15,15])\n",
    "plt.show()"
   ]
  },
  {
   "cell_type": "code",
   "execution_count": null,
   "metadata": {},
   "outputs": [],
   "source": []
  }
 ],
 "metadata": {
  "kernelspec": {
   "display_name": "Python 3",
   "language": "python",
   "name": "python3"
  }
 },
 "nbformat": 4,
 "nbformat_minor": 2
}
