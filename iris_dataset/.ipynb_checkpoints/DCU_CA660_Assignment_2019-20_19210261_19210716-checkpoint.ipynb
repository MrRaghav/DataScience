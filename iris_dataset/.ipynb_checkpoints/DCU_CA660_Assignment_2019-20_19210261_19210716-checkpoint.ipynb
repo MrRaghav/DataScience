{
 "cells": [
  {
   "cell_type": "code",
   "execution_count": 43,
   "metadata": {},
   "outputs": [],
   "source": [
    "import pandas as pd\n",
    "import numpy as np\n",
    "import matplotlib.pyplot as plt\n",
    "from scipy import stats\n",
    "shannonAirportDaily = pd.read_csv(\"C:/Users/Raghvendra/Desktop/shannon airport daily data.csv\")"
   ]
  },
  {
   "cell_type": "code",
   "execution_count": 44,
   "metadata": {},
   "outputs": [],
   "source": [
    "#pip install pandas-profiling as pp\n",
    "import pandas_profiling as pp"
   ]
  },
  {
   "cell_type": "code",
   "execution_count": 45,
   "metadata": {},
   "outputs": [
    {
     "data": {
      "text/html": [
       "<div>\n",
       "<style scoped>\n",
       "    .dataframe tbody tr th:only-of-type {\n",
       "        vertical-align: middle;\n",
       "    }\n",
       "\n",
       "    .dataframe tbody tr th {\n",
       "        vertical-align: top;\n",
       "    }\n",
       "\n",
       "    .dataframe thead th {\n",
       "        text-align: right;\n",
       "    }\n",
       "</style>\n",
       "<table border=\"1\" class=\"dataframe\">\n",
       "  <thead>\n",
       "    <tr style=\"text-align: right;\">\n",
       "      <th></th>\n",
       "      <th>date</th>\n",
       "      <th>ind</th>\n",
       "      <th>maxtp</th>\n",
       "      <th>ind.1</th>\n",
       "      <th>mintp</th>\n",
       "      <th>igmin</th>\n",
       "      <th>gmin</th>\n",
       "      <th>ind.2</th>\n",
       "      <th>rain</th>\n",
       "      <th>cbl</th>\n",
       "      <th>...</th>\n",
       "      <th>ind.5</th>\n",
       "      <th>hg</th>\n",
       "      <th>sun</th>\n",
       "      <th>dos</th>\n",
       "      <th>soil</th>\n",
       "      <th>pe</th>\n",
       "      <th>evap</th>\n",
       "      <th>smd_wd</th>\n",
       "      <th>smd_md</th>\n",
       "      <th>smd_pd</th>\n",
       "    </tr>\n",
       "  </thead>\n",
       "  <tbody>\n",
       "    <tr>\n",
       "      <th>0</th>\n",
       "      <td>01-May-05</td>\n",
       "      <td>0</td>\n",
       "      <td>17.0</td>\n",
       "      <td>0</td>\n",
       "      <td>10.4</td>\n",
       "      <td>0</td>\n",
       "      <td>10.5</td>\n",
       "      <td>0</td>\n",
       "      <td>0.9</td>\n",
       "      <td>998.7</td>\n",
       "      <td>...</td>\n",
       "      <td>0</td>\n",
       "      <td>29</td>\n",
       "      <td>5.6</td>\n",
       "      <td>0</td>\n",
       "      <td>13.8</td>\n",
       "      <td>2.5</td>\n",
       "      <td>3.7</td>\n",
       "      <td>1.6</td>\n",
       "      <td>1.6</td>\n",
       "      <td>-7.8</td>\n",
       "    </tr>\n",
       "    <tr>\n",
       "      <th>1</th>\n",
       "      <td>02-May-05</td>\n",
       "      <td>0</td>\n",
       "      <td>17.5</td>\n",
       "      <td>0</td>\n",
       "      <td>9.1</td>\n",
       "      <td>0</td>\n",
       "      <td>6.8</td>\n",
       "      <td>0</td>\n",
       "      <td>4.5</td>\n",
       "      <td>1000.5</td>\n",
       "      <td>...</td>\n",
       "      <td>0</td>\n",
       "      <td>21</td>\n",
       "      <td>3.3</td>\n",
       "      <td>0</td>\n",
       "      <td>13.55</td>\n",
       "      <td>2.6</td>\n",
       "      <td>3.6</td>\n",
       "      <td>0</td>\n",
       "      <td>-0.4</td>\n",
       "      <td>-9.4</td>\n",
       "    </tr>\n",
       "    <tr>\n",
       "      <th>2</th>\n",
       "      <td>03-May-05</td>\n",
       "      <td>0</td>\n",
       "      <td>12.5</td>\n",
       "      <td>0</td>\n",
       "      <td>9.2</td>\n",
       "      <td>0</td>\n",
       "      <td>5.3</td>\n",
       "      <td>0</td>\n",
       "      <td>0.1</td>\n",
       "      <td>1011.4</td>\n",
       "      <td>...</td>\n",
       "      <td>0</td>\n",
       "      <td>27</td>\n",
       "      <td>0.0</td>\n",
       "      <td>0</td>\n",
       "      <td>12.55</td>\n",
       "      <td>1.7</td>\n",
       "      <td>2.3</td>\n",
       "      <td>1.6</td>\n",
       "      <td>1.6</td>\n",
       "      <td>-7.3</td>\n",
       "    </tr>\n",
       "    <tr>\n",
       "      <th>3</th>\n",
       "      <td>04-May-05</td>\n",
       "      <td>0</td>\n",
       "      <td>15.0</td>\n",
       "      <td>0</td>\n",
       "      <td>6.8</td>\n",
       "      <td>0</td>\n",
       "      <td>5</td>\n",
       "      <td>0</td>\n",
       "      <td>0.0</td>\n",
       "      <td>1024.0</td>\n",
       "      <td>...</td>\n",
       "      <td>0</td>\n",
       "      <td>26</td>\n",
       "      <td>8.2</td>\n",
       "      <td>0</td>\n",
       "      <td>12.2</td>\n",
       "      <td>3</td>\n",
       "      <td>4.4</td>\n",
       "      <td>4.5</td>\n",
       "      <td>4.5</td>\n",
       "      <td>-3.9</td>\n",
       "    </tr>\n",
       "    <tr>\n",
       "      <th>4</th>\n",
       "      <td>05-May-05</td>\n",
       "      <td>0</td>\n",
       "      <td>15.6</td>\n",
       "      <td>0</td>\n",
       "      <td>9.6</td>\n",
       "      <td>0</td>\n",
       "      <td>6.3</td>\n",
       "      <td>0</td>\n",
       "      <td>0.5</td>\n",
       "      <td>1024.2</td>\n",
       "      <td>...</td>\n",
       "      <td>0</td>\n",
       "      <td>31</td>\n",
       "      <td>3.9</td>\n",
       "      <td>0</td>\n",
       "      <td>13.1</td>\n",
       "      <td>2.6</td>\n",
       "      <td>3.9</td>\n",
       "      <td>6.5</td>\n",
       "      <td>6.5</td>\n",
       "      <td>-1.6</td>\n",
       "    </tr>\n",
       "  </tbody>\n",
       "</table>\n",
       "<p>5 rows × 25 columns</p>\n",
       "</div>"
      ],
      "text/plain": [
       "        date  ind  maxtp  ind.1  mintp igmin  gmin  ind.2  rain     cbl  ...  \\\n",
       "0  01-May-05    0   17.0      0   10.4     0  10.5      0   0.9   998.7  ...   \n",
       "1  02-May-05    0   17.5      0    9.1     0   6.8      0   4.5  1000.5  ...   \n",
       "2  03-May-05    0   12.5      0    9.2     0   5.3      0   0.1  1011.4  ...   \n",
       "3  04-May-05    0   15.0      0    6.8     0     5      0   0.0  1024.0  ...   \n",
       "4  05-May-05    0   15.6      0    9.6     0   6.3      0   0.5  1024.2  ...   \n",
       "\n",
       "   ind.5  hg  sun  dos   soil   pe  evap  smd_wd  smd_md smd_pd  \n",
       "0      0  29  5.6    0   13.8  2.5   3.7     1.6     1.6   -7.8  \n",
       "1      0  21  3.3    0  13.55  2.6   3.6       0    -0.4   -9.4  \n",
       "2      0  27  0.0    0  12.55  1.7   2.3     1.6     1.6   -7.3  \n",
       "3      0  26  8.2    0   12.2    3   4.4     4.5     4.5   -3.9  \n",
       "4      0  31  3.9    0   13.1  2.6   3.9     6.5     6.5   -1.6  \n",
       "\n",
       "[5 rows x 25 columns]"
      ]
     },
     "execution_count": 45,
     "metadata": {},
     "output_type": "execute_result"
    }
   ],
   "source": [
    "shannonAirportDaily.head()"
   ]
  },
  {
   "cell_type": "code",
   "execution_count": 46,
   "metadata": {},
   "outputs": [],
   "source": [
    "shaAirportDaily_1 = shannonAirportDaily[['date', 'maxtp', 'mintp', 'rain', 'sun']]"
   ]
  },
  {
   "cell_type": "code",
   "execution_count": 47,
   "metadata": {},
   "outputs": [
    {
     "data": {
      "text/html": [
       "<div>\n",
       "<style scoped>\n",
       "    .dataframe tbody tr th:only-of-type {\n",
       "        vertical-align: middle;\n",
       "    }\n",
       "\n",
       "    .dataframe tbody tr th {\n",
       "        vertical-align: top;\n",
       "    }\n",
       "\n",
       "    .dataframe thead th {\n",
       "        text-align: right;\n",
       "    }\n",
       "</style>\n",
       "<table border=\"1\" class=\"dataframe\">\n",
       "  <thead>\n",
       "    <tr style=\"text-align: right;\">\n",
       "      <th></th>\n",
       "      <th>date</th>\n",
       "      <th>maxtp</th>\n",
       "      <th>mintp</th>\n",
       "      <th>rain</th>\n",
       "      <th>sun</th>\n",
       "    </tr>\n",
       "  </thead>\n",
       "  <tbody>\n",
       "    <tr>\n",
       "      <th>0</th>\n",
       "      <td>01-May-05</td>\n",
       "      <td>17.0</td>\n",
       "      <td>10.4</td>\n",
       "      <td>0.9</td>\n",
       "      <td>5.6</td>\n",
       "    </tr>\n",
       "    <tr>\n",
       "      <th>1</th>\n",
       "      <td>02-May-05</td>\n",
       "      <td>17.5</td>\n",
       "      <td>9.1</td>\n",
       "      <td>4.5</td>\n",
       "      <td>3.3</td>\n",
       "    </tr>\n",
       "    <tr>\n",
       "      <th>2</th>\n",
       "      <td>03-May-05</td>\n",
       "      <td>12.5</td>\n",
       "      <td>9.2</td>\n",
       "      <td>0.1</td>\n",
       "      <td>0.0</td>\n",
       "    </tr>\n",
       "    <tr>\n",
       "      <th>3</th>\n",
       "      <td>04-May-05</td>\n",
       "      <td>15.0</td>\n",
       "      <td>6.8</td>\n",
       "      <td>0.0</td>\n",
       "      <td>8.2</td>\n",
       "    </tr>\n",
       "    <tr>\n",
       "      <th>4</th>\n",
       "      <td>05-May-05</td>\n",
       "      <td>15.6</td>\n",
       "      <td>9.6</td>\n",
       "      <td>0.5</td>\n",
       "      <td>3.9</td>\n",
       "    </tr>\n",
       "  </tbody>\n",
       "</table>\n",
       "</div>"
      ],
      "text/plain": [
       "        date  maxtp  mintp  rain  sun\n",
       "0  01-May-05   17.0   10.4   0.9  5.6\n",
       "1  02-May-05   17.5    9.1   4.5  3.3\n",
       "2  03-May-05   12.5    9.2   0.1  0.0\n",
       "3  04-May-05   15.0    6.8   0.0  8.2\n",
       "4  05-May-05   15.6    9.6   0.5  3.9"
      ]
     },
     "execution_count": 47,
     "metadata": {},
     "output_type": "execute_result"
    }
   ],
   "source": [
    "shaAirportDaily_1.head()"
   ]
  },
  {
   "cell_type": "code",
   "execution_count": 48,
   "metadata": {},
   "outputs": [
    {
     "data": {
      "text/plain": [
       "14.157655276571656"
      ]
     },
     "execution_count": 48,
     "metadata": {},
     "output_type": "execute_result"
    }
   ],
   "source": [
    "np.mean(shaAirportDaily_1[\"maxtp\"])"
   ]
  },
  {
   "cell_type": "code",
   "execution_count": 49,
   "metadata": {},
   "outputs": [
    {
     "data": {
      "text/plain": [
       "7.355824051349794"
      ]
     },
     "execution_count": 49,
     "metadata": {},
     "output_type": "execute_result"
    }
   ],
   "source": [
    "np.mean(shaAirportDaily_1[\"mintp\"])"
   ]
  },
  {
   "cell_type": "code",
   "execution_count": 109,
   "metadata": {},
   "outputs": [],
   "source": [
    "rain_mean = np.mean(shaAirportDaily_1[\"rain\"])"
   ]
  },
  {
   "cell_type": "code",
   "execution_count": 120,
   "metadata": {},
   "outputs": [
    {
     "data": {
      "text/plain": [
       "3.83526524447801"
      ]
     },
     "execution_count": 120,
     "metadata": {},
     "output_type": "execute_result"
    }
   ],
   "source": [
    "np.mean(shaAirportDaily_1[\"sun\"])"
   ]
  },
  {
   "cell_type": "code",
   "execution_count": 137,
   "metadata": {},
   "outputs": [
    {
     "name": "stdout",
     "output_type": "stream",
     "text": [
      "           date  maxtp  mintp  rain   sun\n",
      "20    21-May-05   14.2    6.4   8.3   7.2\n",
      "22    23-May-05   12.4    7.1  11.5   4.6\n",
      "27    28-May-05   14.2    8.0   7.6   8.9\n",
      "28    29-May-05   16.1    7.1   3.6   7.0\n",
      "33    03-Jun-05   16.8   10.8   4.7   4.8\n",
      "45    15-Jun-05   16.7   12.0   3.1   5.1\n",
      "46    16-Jun-05   20.1   12.3   6.2   6.2\n",
      "63    03-Jul-05   16.1    9.5   6.4   5.9\n",
      "65    05-Jul-05   16.9   12.5   3.6   5.4\n",
      "109   18-Aug-05   19.5   12.9   7.8   5.9\n",
      "115   24-Aug-05   17.4   11.2   5.7   8.0\n",
      "116   25-Aug-05   16.4   10.2   5.3  10.3\n",
      "153   01-Oct-05   13.7    9.3   3.1   6.1\n",
      "160   08-Oct-05   13.1    7.1   5.1   6.7\n",
      "172   20-Oct-05   14.2    7.8   7.0   5.0\n",
      "184   01-Nov-05   12.8    7.1   8.7   5.9\n",
      "187   04-Nov-05   11.6    7.6   4.3   4.2\n",
      "189   06-Nov-05   12.6    6.6   5.0   4.7\n",
      "208   25-Nov-05    6.1    0.6   3.1   4.3\n",
      "214   01-Dec-05    8.9    4.4   7.8   5.1\n",
      "215   02-Dec-05    8.1    4.1   5.1   4.6\n",
      "290   15-Feb-06    9.1    4.8   7.7   4.0\n",
      "332   29-Mar-06   10.9    1.3   9.7   4.3\n",
      "334   31-Mar-06   11.8    5.7   6.5   5.2\n",
      "345   11-Apr-06   12.6    6.4   6.0   7.0\n",
      "367   03-May-06   16.7    7.0   3.0   5.7\n",
      "370   06-May-06   14.3    8.2   6.3   5.3\n",
      "379   15-May-06   17.2   12.0   7.7   4.1\n",
      "382   18-May-06   16.4   10.7  11.3   4.5\n",
      "447   22-Jul-06   20.9   13.4   3.8   4.0\n",
      "...         ...    ...    ...   ...   ...\n",
      "4862  23-Aug-18   16.4   11.0   2.9   7.0\n",
      "4863  24-Aug-18   15.3    8.9   6.2   4.7\n",
      "4886  16-Sep-18   17.4   10.5   3.5   5.6\n",
      "4891  21-Sep-18   15.1    7.3   6.8   6.4\n",
      "4911  11-Oct-18   15.6   11.0   4.7   4.7\n",
      "4964  03-Dec-18    9.5    1.0   8.8   5.1\n",
      "5010  18-Jan-19   10.1    4.2   3.6   5.1\n",
      "5033  10-Feb-19    8.8    2.1   5.5   4.8\n",
      "5057  06-Mar-19    9.7    3.9   5.2   3.9\n",
      "5061  10-Mar-19    7.0    2.0  11.1   4.8\n",
      "5063  12-Mar-19    8.8    3.1   7.2   5.7\n",
      "5084  02-Apr-19    7.4    2.6   7.7   4.8\n",
      "5146  03-Jun-19   15.5   10.0   5.2   4.7\n",
      "5159  16-Jun-19   18.8    9.3   5.4   5.0\n",
      "5192  19-Jul-19   22.3   13.9  12.0   4.1\n",
      "5209  05-Aug-19   20.1   12.9   6.3   5.1\n",
      "5210  06-Aug-19   18.5   14.2   9.0   6.2\n",
      "5212  08-Aug-19   22.2   11.4  16.4   4.7\n",
      "5216  12-Aug-19   17.7    8.5   5.4   8.2\n",
      "5220  16-Aug-19   20.2   14.1  16.1   5.5\n",
      "5221  17-Aug-19   18.0   12.3   6.0   9.2\n",
      "5222  18-Aug-19   17.2   12.4   7.6   4.1\n",
      "5223  19-Aug-19   17.0   11.4   4.0   8.3\n",
      "5235  31-Aug-19   16.8   10.8   8.0  10.3\n",
      "5241  06-Sep-19   17.3   12.1   5.9   6.0\n",
      "5262  27-Sep-19   15.9   11.6   7.5   7.0\n",
      "5266  01-Oct-19   14.6    5.1   3.9   4.3\n",
      "5271  06-Oct-19   14.9    8.0   6.3   3.9\n",
      "5273  08-Oct-19   14.0    9.6   3.7   5.4\n",
      "5274  09-Oct-19   13.3    8.9   6.3   4.2\n",
      "\n",
      "[390 rows x 5 columns]\n",
      "2.838285822163501\n"
     ]
    }
   ],
   "source": [
    "#value = shaAirportDaily_1[(shaAirportDaily_1[\"sun\"] > 3.84)] #and shaAirportDaily_1[\"rain\"] > rain_mean):\n",
    "value1 = shaAirportDaily_1[((shaAirportDaily_1[\"rain\"] > rain_mean) & (shaAirportDaily_1[\"sun\"] > 3.84))]\n",
    "print(value1)\n",
    "print(rain_mean)\n",
    "\n"
   ]
  },
  {
   "cell_type": "code",
   "execution_count": 52,
   "metadata": {},
   "outputs": [
    {
     "data": {
      "text/plain": [
       "22.71362508562124"
      ]
     },
     "execution_count": 52,
     "metadata": {},
     "output_type": "execute_result"
    }
   ],
   "source": [
    "np.var(shaAirportDaily_1[\"maxtp\"])"
   ]
  },
  {
   "cell_type": "code",
   "execution_count": 53,
   "metadata": {},
   "outputs": [
    {
     "data": {
      "text/plain": [
       "20.82712154578373"
      ]
     },
     "execution_count": 53,
     "metadata": {},
     "output_type": "execute_result"
    }
   ],
   "source": [
    "np.var(shaAirportDaily_1[\"mintp\"])"
   ]
  },
  {
   "cell_type": "code",
   "execution_count": 54,
   "metadata": {},
   "outputs": [
    {
     "data": {
      "text/plain": [
       "21.7570729913656"
      ]
     },
     "execution_count": 54,
     "metadata": {},
     "output_type": "execute_result"
    }
   ],
   "source": [
    "np.var(shaAirportDaily_1[\"rain\"])"
   ]
  },
  {
   "cell_type": "code",
   "execution_count": 55,
   "metadata": {},
   "outputs": [
    {
     "data": {
      "text/plain": [
       "14.282384831476682"
      ]
     },
     "execution_count": 55,
     "metadata": {},
     "output_type": "execute_result"
    }
   ],
   "source": [
    "np.var(shaAirportDaily_1[\"sun\"])"
   ]
  },
  {
   "cell_type": "code",
   "execution_count": 100,
   "metadata": {},
   "outputs": [
    {
     "data": {
      "text/plain": [
       "Text(0, 0.5, 'Sunshine (in hours)')"
      ]
     },
     "execution_count": 100,
     "metadata": {},
     "output_type": "execute_result"
    },
    {
     "data": {
      "image/png": "[encoded data removed]",
      "text/plain": [
       "<Figure size 432x288 with 1 Axes>"
      ]
     },
     "metadata": {
      "needs_background": "light"
     },
     "output_type": "display_data"
    }
   ],
   "source": [
    "import matplotlib.pyplot as plt\n",
    "%matplotlib inline\n",
    "plt.hist(shaAirportDaily_1['sun'], color = 'yellow', edgecolor = 'black')\n",
    "plt.title('Histogram of Sunshine (in hours)')\n",
    "#plt.xlabel('date')\n",
    "plt.ylabel('Sunshine (in hours)')"
   ]
  },
  {
   "cell_type": "code",
   "execution_count": 71,
   "metadata": {},
   "outputs": [
    {
     "data": {
      "text/plain": [
       "Text(0, 0.5, 'Sunlight (in hours)')"
      ]
     },
     "execution_count": 71,
     "metadata": {},
     "output_type": "execute_result"
    },
    {
     "data": {
      "image/png": "[encoded data removed]",
      "text/plain": [
       "<Figure size 432x288 with 1 Axes>"
      ]
     },
     "metadata": {
      "needs_background": "light"
     },
     "output_type": "display_data"
    }
   ],
   "source": [
    "import matplotlib.pyplot as plt\n",
    "%matplotlib inline\n",
    "plt.hist(shaAirportDaily_1['sun'], color = 'yellow', edgecolor = 'black', cumulative=True)\n",
    "plt.title('Histogram of Sunlight (in hours)')\n",
    "plt.xlabel('date')\n",
    "plt.ylabel('Sunlight (in hours)')"
   ]
  },
  {
   "cell_type": "code",
   "execution_count": 73,
   "metadata": {},
   "outputs": [
    {
     "data": {
      "text/plain": [
       "Text(0, 0.5, 'Sunlight (in hours)')"
      ]
     },
     "execution_count": 73,
     "metadata": {},
     "output_type": "execute_result"
    },
    {
     "data": {
      "image/png": "[encoded data removed]",
      "text/plain": [
       "<Figure size 432x288 with 1 Axes>"
      ]
     },
     "metadata": {
      "needs_background": "light"
     },
     "output_type": "display_data"
    }
   ],
   "source": [
    "import matplotlib.pyplot as plt\n",
    "%matplotlib inline\n",
    "plt.hist(shaAirportDaily_1['sun'], color = 'yellow', edgecolor = 'black', bins=50)\n",
    "plt.title('Histogram of Sunlight (in hours)')\n",
    "plt.xlabel('date')\n",
    "plt.ylabel('Sunlight (in hours)')"
   ]
  },
  {
   "cell_type": "code",
   "execution_count": 70,
   "metadata": {},
   "outputs": [
    {
     "data": {
      "text/plain": [
       "Text(0, 0.5, 'Sunlight (in hours)')"
      ]
     },
     "execution_count": 70,
     "metadata": {},
     "output_type": "execute_result"
    },
    {
     "data": {
      "image/png": "[encoded data removed]",
      "text/plain": [
       "<Figure size 432x288 with 1 Axes>"
      ]
     },
     "metadata": {
      "needs_background": "light"
     },
     "output_type": "display_data"
    }
   ],
   "source": [
    "%matplotlib inline\n",
    "import matplotlib.pyplot as plt\n",
    "plt.hist(shaAirportDaily_1['sun'], color = 'yellow', edgecolor = 'black', bins=50, cumulative=True)\n",
    "plt.title('Histogram of Sunlight (in hours)')\n",
    "plt.xlabel('date')\n",
    "plt.ylabel('Sunlight (in hours)')"
   ]
  },
  {
   "cell_type": "code",
   "execution_count": 93,
   "metadata": {},
   "outputs": [
    {
     "data": {
      "text/plain": [
       "Text(0, 0.5, 'Sunlight (in hours)')"
      ]
     },
     "execution_count": 93,
     "metadata": {},
     "output_type": "execute_result"
    },
    {
     "data": {
      "image/png": "[encoded data removed]",
      "text/plain": [
       "<Figure size 432x288 with 1 Axes>"
      ]
     },
     "metadata": {
      "needs_background": "light"
     },
     "output_type": "display_data"
    }
   ],
   "source": [
    "import matplotlib.pyplot as plt\n",
    "%matplotlib inline\n",
    "plt.hist(shaAirportDaily_1['sun'], color = 'yellow', edgecolor = 'black', bins=100)\n",
    "plt.title('Histogram of Sunlight (in hours)')\n",
    "#plt.xlabel('date')\n",
    "plt.ylabel('Sunlight (in hours)')"
   ]
  },
  {
   "cell_type": "code",
   "execution_count": 69,
   "metadata": {},
   "outputs": [
    {
     "data": {
      "text/plain": [
       "Text(0, 0.5, 'Sunlight (in hours)')"
      ]
     },
     "execution_count": 69,
     "metadata": {},
     "output_type": "execute_result"
    },
    {
     "data": {
      "image/png": "[encoded data removed]",
      "text/plain": [
       "<Figure size 432x288 with 1 Axes>"
      ]
     },
     "metadata": {
      "needs_background": "light"
     },
     "output_type": "display_data"
    }
   ],
   "source": [
    "import matplotlib.pyplot as plt\n",
    "%matplotlib inline\n",
    "plt.hist(shaAirportDaily_1['sun'], color = 'yellow', edgecolor = 'black', bins=100, cumulative=True)\n",
    "plt.title('Histogram of Sunlight (in hours)')\n",
    "plt.xlabel('date')\n",
    "plt.ylabel('Sunlight (in hours)')"
   ]
  },
  {
   "cell_type": "code",
   "execution_count": 26,
   "metadata": {},
   "outputs": [
    {
     "data": {
      "text/plain": [
       "ModeResult(mode=array([0.]), count=array([768]))"
      ]
     },
     "execution_count": 26,
     "metadata": {},
     "output_type": "execute_result"
    }
   ],
   "source": [
    "stats.mode(shaAirportDaily_1[\"sun\"])"
   ]
  },
  {
   "cell_type": "code",
   "execution_count": 80,
   "metadata": {},
   "outputs": [
    {
     "data": {
      "text/plain": [
       "ModeResult(mode=array([0.]), count=array([1650]))"
      ]
     },
     "execution_count": 80,
     "metadata": {},
     "output_type": "execute_result"
    }
   ],
   "source": [
    "stats.mode(shaAirportDaily_1[\"rain\"])"
   ]
  },
  {
   "cell_type": "code",
   "execution_count": 81,
   "metadata": {},
   "outputs": [
    {
     "data": {
      "text/plain": [
       "ModeResult(mode=array([9.6]), count=array([54]))"
      ]
     },
     "execution_count": 81,
     "metadata": {},
     "output_type": "execute_result"
    }
   ],
   "source": [
    "stats.mode(shaAirportDaily_1[\"mintp\"])"
   ]
  },
  {
   "cell_type": "code",
   "execution_count": 82,
   "metadata": {},
   "outputs": [
    {
     "data": {
      "text/plain": [
       "ModeResult(mode=array([12.7]), count=array([54]))"
      ]
     },
     "execution_count": 82,
     "metadata": {},
     "output_type": "execute_result"
    }
   ],
   "source": [
    "stats.mode(shaAirportDaily_1[\"maxtp\"])"
   ]
  },
  {
   "cell_type": "code",
   "execution_count": 27,
   "metadata": {},
   "outputs": [
    {
     "data": {
      "text/plain": [
       "2.8"
      ]
     },
     "execution_count": 27,
     "metadata": {},
     "output_type": "execute_result"
    }
   ],
   "source": [
    "np.median(shaAirportDaily_1[\"sun\"])"
   ]
  },
  {
   "cell_type": "code",
   "execution_count": 83,
   "metadata": {},
   "outputs": [
    {
     "data": {
      "text/plain": [
       "0.7"
      ]
     },
     "execution_count": 83,
     "metadata": {},
     "output_type": "execute_result"
    }
   ],
   "source": [
    "np.median(shaAirportDaily_1[\"rain\"])"
   ]
  },
  {
   "cell_type": "code",
   "execution_count": 84,
   "metadata": {},
   "outputs": [
    {
     "data": {
      "text/plain": [
       "14.2"
      ]
     },
     "execution_count": 84,
     "metadata": {},
     "output_type": "execute_result"
    }
   ],
   "source": [
    "np.median(shaAirportDaily_1[\"maxtp\"])"
   ]
  },
  {
   "cell_type": "code",
   "execution_count": 85,
   "metadata": {},
   "outputs": [
    {
     "data": {
      "text/plain": [
       "7.6"
      ]
     },
     "execution_count": 85,
     "metadata": {},
     "output_type": "execute_result"
    }
   ],
   "source": [
    "np.median(shaAirportDaily_1[\"mintp\"])"
   ]
  },
  {
   "cell_type": "code",
   "execution_count": 108,
   "metadata": {},
   "outputs": [
    {
     "data": {
      "image/png": "[encoded data removed]",
      "text/plain": [
       "<Figure size 936x504 with 1 Axes>"
      ]
     },
     "metadata": {
      "needs_background": "light"
     },
     "output_type": "display_data"
    }
   ],
   "source": [
    "shaAirportDaily_1.plot.box(whis=1.5, figsize=(13,7));\n",
    "#y=['sun']\n"
   ]
  },
  {
   "cell_type": "code",
   "execution_count": 92,
   "metadata": {},
   "outputs": [
    {
     "data": {
      "image/png": "[encoded data removed]",
      "text/plain": [
       "<Figure size 432x288 with 1 Axes>"
      ]
     },
     "metadata": {
      "needs_background": "light"
     },
     "output_type": "display_data"
    }
   ],
   "source": [
    "shaAirportDaily_1.plot.box(y=['rain']);"
   ]
  },
  {
   "cell_type": "code",
   "execution_count": 66,
   "metadata": {},
   "outputs": [
    {
     "data": {
      "image/png": "[encoded data removed]",
      "text/plain": [
       "<Figure size 432x288 with 1 Axes>"
      ]
     },
     "metadata": {
      "needs_background": "light"
     },
     "output_type": "display_data"
    }
   ],
   "source": [
    "shaAirportDaily_1.plot.box(y=['mintp']);"
   ]
  },
  {
   "cell_type": "code",
   "execution_count": 67,
   "metadata": {},
   "outputs": [
    {
     "data": {
      "image/png": "[encoded data removed]",
      "text/plain": [
       "<Figure size 432x288 with 1 Axes>"
      ]
     },
     "metadata": {
      "needs_background": "light"
     },
     "output_type": "display_data"
    }
   ],
   "source": [
    "shaAirportDaily_1.plot.box(y=['maxtp']);"
   ]
  },
  {
   "cell_type": "code",
   "execution_count": 29,
   "metadata": {},
   "outputs": [],
   "source": [
    "#shaAirportDaily_1['sun'] = shaAirportDaily_1['sun'].replace(regex='0',value=2.8)\n",
    "shaAirportDaily_2 = shaAirportDaily_1['sun'].replace(to_replace=0,value=2.8,inplace=False,limit=None,regex=False, method='pad')"
   ]
  },
  {
   "cell_type": "code",
   "execution_count": 30,
   "metadata": {},
   "outputs": [
    {
     "data": {
      "text/plain": [
       "0    5.6\n",
       "1    3.3\n",
       "2    2.8\n",
       "3    8.2\n",
       "4    3.9\n",
       "Name: sun, dtype: float64"
      ]
     },
     "execution_count": 30,
     "metadata": {},
     "output_type": "execute_result"
    }
   ],
   "source": [
    "shaAirportDaily_2.head()"
   ]
  },
  {
   "cell_type": "code",
   "execution_count": 60,
   "metadata": {},
   "outputs": [
    {
     "data": {
      "text/plain": [
       "Text(0, 0.5, 'Sunlight (in hours)')"
      ]
     },
     "execution_count": 60,
     "metadata": {},
     "output_type": "execute_result"
    },
    {
     "data": {
      "image/png": "[encoded data removed]",
      "text/plain": [
       "<Figure size 432x288 with 1 Axes>"
      ]
     },
     "metadata": {
      "needs_background": "light"
     },
     "output_type": "display_data"
    }
   ],
   "source": [
    "import matplotlib.pyplot as plt\n",
    "%matplotlib inline\n",
    "plt.hist(shaAirportDaily_2, color = 'yellow', edgecolor = 'black', bins=50)\n",
    "plt.title('Histogram of Sunlight (in hours)')\n",
    "plt.xlabel('date')\n",
    "plt.ylabel('Sunlight (in hours)')"
   ]
  },
  {
   "cell_type": "code",
   "execution_count": 32,
   "metadata": {},
   "outputs": [
    {
     "data": {
      "text/plain": [
       "date     20-Jun-10\n",
       "maxtp         21.6\n",
       "mintp            7\n",
       "rain             0\n",
       "sun           15.8\n",
       "Name: 1876, dtype: object"
      ]
     },
     "execution_count": 32,
     "metadata": {},
     "output_type": "execute_result"
    }
   ],
   "source": [
    "shaAirportDaily_1.loc[shaAirportDaily_1['sun'].idxmax()]"
   ]
  },
  {
   "cell_type": "code",
   "execution_count": 33,
   "metadata": {},
   "outputs": [
    {
     "data": {
      "text/plain": [
       "date     28-Jun-18\n",
       "maxtp           32\n",
       "mintp         12.4\n",
       "rain             0\n",
       "sun           15.6\n",
       "Name: 4806, dtype: object"
      ]
     },
     "execution_count": 33,
     "metadata": {},
     "output_type": "execute_result"
    }
   ],
   "source": [
    "shaAirportDaily_1.loc[shaAirportDaily_1['maxtp'].idxmax()]"
   ]
  },
  {
   "cell_type": "code",
   "execution_count": 34,
   "metadata": {},
   "outputs": [
    {
     "data": {
      "text/plain": [
       "date     22-Jul-19\n",
       "maxtp         23.5\n",
       "mintp         18.9\n",
       "rain             0\n",
       "sun            4.8\n",
       "Name: 5195, dtype: object"
      ]
     },
     "execution_count": 34,
     "metadata": {},
     "output_type": "execute_result"
    }
   ],
   "source": [
    "shaAirportDaily_1.loc[shaAirportDaily_1['mintp'].idxmax()]"
   ]
  },
  {
   "cell_type": "code",
   "execution_count": 78,
   "metadata": {},
   "outputs": [
    {
     "data": {
      "text/plain": [
       "date     06-Aug-08\n",
       "maxtp         18.8\n",
       "mintp         14.9\n",
       "rain          52.5\n",
       "sun              0\n",
       "Name: 1193, dtype: object"
      ]
     },
     "execution_count": 78,
     "metadata": {},
     "output_type": "execute_result"
    }
   ],
   "source": [
    "shaAirportDaily_1.loc[shaAirportDaily_1['rain'].idxmax()]"
   ]
  },
  {
   "cell_type": "code",
   "execution_count": 35,
   "metadata": {},
   "outputs": [
    {
     "data": {
      "text/plain": [
       "date     03-May-05\n",
       "maxtp         12.5\n",
       "mintp          9.2\n",
       "rain           0.1\n",
       "sun              0\n",
       "Name: 2, dtype: object"
      ]
     },
     "execution_count": 35,
     "metadata": {},
     "output_type": "execute_result"
    }
   ],
   "source": [
    "shaAirportDaily_1.loc[shaAirportDaily_1['sun'].idxmin()]"
   ]
  },
  {
   "cell_type": "code",
   "execution_count": 36,
   "metadata": {},
   "outputs": [
    {
     "data": {
      "text/plain": [
       "date     25-Dec-10\n",
       "maxtp            0\n",
       "mintp        -11.4\n",
       "rain             0\n",
       "sun              0\n",
       "Name: 2064, dtype: object"
      ]
     },
     "execution_count": 36,
     "metadata": {},
     "output_type": "execute_result"
    }
   ],
   "source": [
    "shaAirportDaily_1.loc[shaAirportDaily_1['mintp'].idxmin()]"
   ]
  },
  {
   "cell_type": "code",
   "execution_count": 37,
   "metadata": {},
   "outputs": [
    {
     "data": {
      "text/plain": [
       "date     24-Dec-10\n",
       "maxtp           -6\n",
       "mintp         -9.8\n",
       "rain             0\n",
       "sun              0\n",
       "Name: 2063, dtype: object"
      ]
     },
     "execution_count": 37,
     "metadata": {},
     "output_type": "execute_result"
    }
   ],
   "source": [
    "shaAirportDaily_1.loc[shaAirportDaily_1['maxtp'].idxmin()]"
   ]
  },
  {
   "cell_type": "code",
   "execution_count": 79,
   "metadata": {},
   "outputs": [
    {
     "data": {
      "text/plain": [
       "date     04-May-05\n",
       "maxtp           15\n",
       "mintp          6.8\n",
       "rain             0\n",
       "sun            8.2\n",
       "Name: 3, dtype: object"
      ]
     },
     "execution_count": 79,
     "metadata": {},
     "output_type": "execute_result"
    }
   ],
   "source": [
    "shaAirportDaily_1.loc[shaAirportDaily_1['rain'].idxmin()]"
   ]
  },
  {
   "cell_type": "code",
   "execution_count": 99,
   "metadata": {},
   "outputs": [
    {
     "data": {
      "text/plain": [
       "Text(0, 0.5, 'maximum temperature (in degree celcius)')"
      ]
     },
     "execution_count": 99,
     "metadata": {},
     "output_type": "execute_result"
    },
    {
     "data": {
      "image/png": "[encoded data removed]",
      "text/plain": [
       "<Figure size 432x288 with 1 Axes>"
      ]
     },
     "metadata": {
      "needs_background": "light"
     },
     "output_type": "display_data"
    }
   ],
   "source": [
    "import matplotlib.pyplot as plt\n",
    "%matplotlib inline\n",
    "plt.hist(shaAirportDaily_1['maxtp'], color = 'orange', edgecolor = 'black')\n",
    "plt.title('Histogram of Max temperature (in degree celcius)')\n",
    "#plt.xlabel('bins')\n",
    "plt.ylabel('maximum temperature (in degree celcius)')"
   ]
  },
  {
   "cell_type": "code",
   "execution_count": 95,
   "metadata": {
    "scrolled": true
   },
   "outputs": [
    {
     "data": {
      "text/plain": [
       "Text(0, 0.5, 'rain (in mm)')"
      ]
     },
     "execution_count": 95,
     "metadata": {},
     "output_type": "execute_result"
    },
    {
     "data": {
      "image/png": "[encoded data removed]",
      "text/plain": [
       "<Figure size 432x288 with 1 Axes>"
      ]
     },
     "metadata": {
      "needs_background": "light"
     },
     "output_type": "display_data"
    }
   ],
   "source": [
    "import matplotlib.pyplot as plt\n",
    "%matplotlib inline\n",
    "plt.hist(shaAirportDaily_1['rain'], color = 'blue', edgecolor = 'black')\n",
    "plt.title('Histogram of rain (in mm)')\n",
    "#plt.xlabel('bins')\n",
    "plt.ylabel('rain (in mm)')"
   ]
  },
  {
   "cell_type": "code",
   "execution_count": 98,
   "metadata": {},
   "outputs": [
    {
     "data": {
      "text/plain": [
       "Text(0, 0.5, 'minimum temperature (in degree celcius)')"
      ]
     },
     "execution_count": 98,
     "metadata": {},
     "output_type": "execute_result"
    },
    {
     "data": {
      "image/png": "[encoded data removed]",
      "text/plain": [
       "<Figure size 432x288 with 1 Axes>"
      ]
     },
     "metadata": {
      "needs_background": "light"
     },
     "output_type": "display_data"
    }
   ],
   "source": [
    "%matplotlib inline\n",
    "import matplotlib.pyplot as plt\n",
    "plt.hist(shaAirportDaily_1['mintp'], color = 'c', edgecolor = 'black')\n",
    "plt.title('Histogram of Min temperature (in degree celcius)')\n",
    "#plt.xlabel('bins')\n",
    "plt.ylabel('minimum temperature (in degree celcius)')"
   ]
  },
  {
   "cell_type": "code",
   "execution_count": 41,
   "metadata": {},
   "outputs": [],
   "source": [
    "shaAirportDaily_1.plot.box(y=['mintp']);"
   ]
  },
  {
   "cell_type": "markdown",
   "metadata": {},
   "source": [
    "take average of min and max temperature and then plot the distribution\n",
    "if sunlight is > 2.8, what is mintp there\n",
    "chi-square"
   ]
  },
  {
   "cell_type": "code",
   "execution_count": 42,
   "metadata": {},
   "outputs": [
    {
     "data": {
      "text/plain": [
       "'C:\\\\Users\\\\Raghvendra'"
      ]
     },
     "execution_count": 42,
     "metadata": {},
     "output_type": "execute_result"
    }
   ],
   "source": [
    "#pp.ProfileReport(shaAirportDaily_1)\n",
    "report = pp.ProfileReport(shaAirportDaily_1)\n",
    "report.to_file('profile_report.html')\n",
    "import os\n",
    "os.getcwd()"
   ]
  },
  {
   "cell_type": "code",
   "execution_count": 142,
   "metadata": {},
   "outputs": [
    {
     "name": "stdout",
     "output_type": "stream",
     "text": [
      "fvalue 6981.926921902096\n",
      "pvalue 0.0\n"
     ]
    }
   ],
   "source": [
    "from scipy import stats\n",
    "fvalue, pvalue = stats.f_oneway(shaAirportDaily_1[\"sun\"],shaAirportDaily_1[\"rain\"],shaAirportDaily_1[\"maxtp\"],shaAirportDaily_1[\"mintp\"])\n",
    "print('fvalue',fvalue)\n",
    "print('pvalue',pvalue)"
   ]
  },
  {
   "cell_type": "code",
   "execution_count": 143,
   "metadata": {},
   "outputs": [
    {
     "name": "stdout",
     "output_type": "stream",
     "text": [
      "fvalue 146.063639113294\n",
      "pvalue 2.08494153126352e-33\n"
     ]
    }
   ],
   "source": [
    "from scipy import stats\n",
    "fvalue, pvalue = stats.f_oneway(shaAirportDaily_1[\"sun\"],shaAirportDaily_1[\"rain\"])\n",
    "print('fvalue',fvalue)\n",
    "print('pvalue',pvalue)"
   ]
  },
  {
   "cell_type": "code",
   "execution_count": 144,
   "metadata": {},
   "outputs": [
    {
     "name": "stdout",
     "output_type": "stream",
     "text": [
      "fvalue 5627.348445103208\n",
      "pvalue 0.0\n"
     ]
    }
   ],
   "source": [
    "from scipy import stats\n",
    "fvalue, pvalue = stats.f_oneway(shaAirportDaily_1[\"maxtp\"],shaAirportDaily_1[\"mintp\"])\n",
    "print('fvalue',fvalue)\n",
    "print('pvalue',pvalue)"
   ]
  },
  {
   "cell_type": "code",
   "execution_count": 145,
   "metadata": {},
   "outputs": [
    {
     "name": "stdout",
     "output_type": "stream",
     "text": [
      "fvalue 15252.942006079462\n",
      "pvalue 0.0\n"
     ]
    }
   ],
   "source": [
    "from scipy import stats\n",
    "fvalue, pvalue = stats.f_oneway(shaAirportDaily_1[\"sun\"],shaAirportDaily_1[\"maxtp\"])\n",
    "print('fvalue',fvalue)\n",
    "print('pvalue',pvalue)"
   ]
  },
  {
   "cell_type": "code",
   "execution_count": 146,
   "metadata": {},
   "outputs": [
    {
     "name": "stdout",
     "output_type": "stream",
     "text": [
      "fvalue 1869.5903557980457\n",
      "pvalue 0.0\n"
     ]
    }
   ],
   "source": [
    "from scipy import stats\n",
    "fvalue, pvalue = stats.f_oneway(shaAirportDaily_1[\"sun\"],shaAirportDaily_1[\"mintp\"])\n",
    "print('fvalue',fvalue)\n",
    "print('pvalue',pvalue)"
   ]
  },
  {
   "cell_type": "code",
   "execution_count": 147,
   "metadata": {},
   "outputs": [
    {
     "name": "stdout",
     "output_type": "stream",
     "text": [
      "fvalue 2538.0677578755467\n",
      "pvalue 0.0\n"
     ]
    }
   ],
   "source": [
    "from scipy import stats\n",
    "fvalue, pvalue = stats.f_oneway(shaAirportDaily_1[\"rain\"],shaAirportDaily_1[\"mintp\"])\n",
    "print('fvalue',fvalue)\n",
    "print('pvalue',pvalue)"
   ]
  },
  {
   "cell_type": "markdown",
   "metadata": {},
   "source": [
    "Confidence Intervals"
   ]
  },
  {
   "cell_type": "code",
   "execution_count": null,
   "metadata": {},
   "outputs": [],
   "source": []
  }
 ],
 "metadata": {
  "kernelspec": {
   "display_name": "Python 3",
   "language": "python",
   "name": "python3"
  },
  "language_info": {
   "codemirror_mode": {
    "name": "ipython",
    "version": 3
   },
   "file_extension": ".py",
   "mimetype": "text/x-python",
   "name": "python",
   "nbconvert_exporter": "python",
   "pygments_lexer": "ipython3",
   "version": "3.7.4"
  }
 },
 "nbformat": 4,
 "nbformat_minor": 2
}
