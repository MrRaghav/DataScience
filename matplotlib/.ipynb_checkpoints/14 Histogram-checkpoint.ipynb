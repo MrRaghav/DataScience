{
 "cells": [
  {
   "cell_type": "markdown",
   "metadata": {},
   "source": [
    "reference:\n",
    "\n",
    "https://www.tutorialspoint.com/matplotlib/matplotlib_histogram.htm"
   ]
  },
  {
   "cell_type": "markdown",
   "metadata": {},
   "source": [
    "histogram is an accurate representation of the distribution of numerical data. \n",
    "\n",
    "It is an estimate of the probability distribution of a continuous variable. \n",
    "\n",
    "It is a kind of bar graph.\n",
    "\n",
    "\n",
    "\n",
    "\n",
    "To construct a histogram, follow these steps −\n",
    "\n",
    "Bin the range of values.\n",
    "Divide the entire range of values into a series of intervals.\n",
    "Count how many values fall into each interval.\n",
    "\n",
    "\n",
    "**matplotlib.pyplot.hist()** function plots a histogram\n",
    "\n",
    "\n",
    "\n",
    "_parameters for a histogram_\n",
    "\n",
    "**x**\tarray or sequence of arrays\n",
    "**bins**\tinteger or sequence or ‘auto’, optional\n",
    "\n",
    "\n",
    "\n",
    "_optional parameters_\n",
    "\n",
    "**range**    The lower and upper range of the bins.\n",
    "\n",
    "**density**\t    If True, the first element of the return tuple will be the counts normalized to form a probability density\n",
    "\n",
    "**cumulative**\tIf True, then a histogram is computed where each bin gives the counts in that bin plus all bins for smaller values.\n",
    "\n",
    "**histtype**   The type of histogram to draw. Default is ‘bar’\n",
    "\n",
    "               ‘bar’ is traditional bar-type histogram. With multiple data, the bars are arranged side by side.\n",
    "               \n",
    "               ‘barstacked’ is a bar-type histogram where multiple data are stacked on top of each other.\n",
    "               \n",
    "               ‘step’ generates a lineplot that is by default unfilled.\n",
    "               \n",
    "               ‘stepfilled’ generates a lineplot that is by default filled."
   ]
  },
  {
   "cell_type": "code",
   "execution_count": 1,
   "metadata": {},
   "outputs": [],
   "source": [
    "from matplotlib import pyplot as plt\n",
    "import numpy as np"
   ]
  },
  {
   "cell_type": "code",
   "execution_count": 2,
   "metadata": {},
   "outputs": [
    {
     "data": {
      "image/png": "[encoded data removed]",
      "text/plain": [
       "<Figure size 432x288 with 1 Axes>"
      ]
     },
     "metadata": {
      "needs_background": "light"
     },
     "output_type": "display_data"
    }
   ],
   "source": [
    "fig,ax = plt.subplots(1,1)\n",
    "a = np.array([22,87,5,43,56,73,55,54,11,20,51,5,79,31,27])\n",
    "ax.hist(a, bins = [0,25,50,75,100])\n",
    "ax.set_title(\"histogram of result\")\n",
    "ax.set_xticks([0,25,50,75,100])\n",
    "ax.set_xlabel('marks')\n",
    "ax.set_ylabel('no. of students')\n",
    "plt.show()"
   ]
  },
  {
   "cell_type": "code",
   "execution_count": null,
   "metadata": {},
   "outputs": [],
   "source": []
  }
 ],
 "metadata": {
  "kernelspec": {
   "display_name": "Python 3",
   "language": "python",
   "name": "python3"
  },
  "language_info": {
   "codemirror_mode": {
    "name": "ipython",
    "version": 3
   },
   "file_extension": ".py",
   "mimetype": "text/x-python",
   "name": "python",
   "nbconvert_exporter": "python",
   "pygments_lexer": "ipython3",
   "version": "3.6.9"
  }
 },
 "nbformat": 4,
 "nbformat_minor": 2
}
