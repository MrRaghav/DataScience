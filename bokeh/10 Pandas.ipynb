{
 "cells": [
  {
   "cell_type": "markdown",
   "metadata": {},
   "source": [
    "reference:\n",
    "    \n",
    "https://www.tutorialspoint.com/bokeh/bokeh_pandas.htm"
   ]
  },
  {
   "cell_type": "code",
   "execution_count": 1,
   "metadata": {},
   "outputs": [],
   "source": [
    "import pandas as pd"
   ]
  },
  {
   "cell_type": "code",
   "execution_count": 2,
   "metadata": {},
   "outputs": [
    {
     "name": "stdout",
     "output_type": "stream",
     "text": [
      "          x           pow\n",
      "0  0.000000      1.000000\n",
      "1  0.526316      3.359818\n",
      "2  1.052632     11.288379\n",
      "3  1.578947     37.926902\n",
      "4  2.105263    127.427499\n",
      "5  2.631579    428.133240\n",
      "6  3.157895   1438.449888\n",
      "7  3.684211   4832.930239\n",
      "8  4.210526  16237.767390\n",
      "9  4.736842  54555.947810\n"
     ]
    }
   ],
   "source": [
    "df = pd.read_csv('10 pandas.csv')\n",
    "print (df)"
   ]
  },
  {
   "cell_type": "code",
   "execution_count": 3,
   "metadata": {},
   "outputs": [],
   "source": [
    "from bokeh.plotting import figure, output_file, show"
   ]
  },
  {
   "cell_type": "code",
   "execution_count": 4,
   "metadata": {},
   "outputs": [],
   "source": [
    "p = figure()\n",
    "x = df['x']\n",
    "y = df['pow']\n",
    "p.line(x,y,line_width = 2)\n",
    "p.circle(x, y,size = 20)\n",
    "output_file('10_pandas.html')\n",
    "show(p)"
   ]
  },
  {
   "cell_type": "code",
   "execution_count": null,
   "metadata": {},
   "outputs": [],
   "source": []
  }
 ],
 "metadata": {
  "kernelspec": {
   "display_name": "Python 3",
   "language": "python",
   "name": "python3"
  },
  "language_info": {
   "codemirror_mode": {
    "name": "ipython",
    "version": 3
   },
   "file_extension": ".py",
   "mimetype": "text/x-python",
   "name": "python",
   "nbconvert_exporter": "python",
   "pygments_lexer": "ipython3",
   "version": "3.6.9"
  }
 },
 "nbformat": 4,
 "nbformat_minor": 2
}
