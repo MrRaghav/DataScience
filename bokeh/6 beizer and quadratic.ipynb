{
 "cells": [
  {
   "cell_type": "markdown",
   "metadata": {},
   "source": [
    "reference:\n",
    "    \n",
    "https://www.tutorialspoint.com/bokeh/bokeh_specialized_curves.htm"
   ]
  },
  {
   "cell_type": "markdown",
   "metadata": {},
   "source": [
    "*bokeh.plotting* API supports methods for rendering following specialised curves"
   ]
  },
  {
   "cell_type": "markdown",
   "metadata": {},
   "source": [
    "**beizer()**\n",
    "\n",
    "This method adds a Bézier curve to the figure object. A Bézier curve is a **parametric curve** used in **computer graphics**. Other uses include the **design of computer fonts and animation** , user interface design and for smoothing cursor trajectory.\n",
    "\n",
    "In vector graphics, Bézier curves are used to model smooth curves that can be scaled indefinitely. A \"Path\" is combination of linked Bézier curves.\n",
    "\n",
    "The beizer() method has following parameters which are defined −\n",
    "\n",
    "1|\tx0\t|The x-coordinates of the starting points.\n",
    "-|------|------------------------------------------\n",
    "2|\ty0\t|The y-coordinates of the starting points..\n",
    "-|------|-----------------------------------------\n",
    "3|\tx1\t|The x-coordinates of the ending points.\n",
    "-|------|-----------------------------------------\n",
    "4|\ty1\t|The y-coordinates of the ending points.\n",
    "-|------|-----------------------------------------\n",
    "5|\tcx0\t|The x-coordinates of first control points.\n",
    "-|------|-----------------------------------------\n",
    "6|\tcy0\t|The y-coordinates of first control points.\n",
    "-|------|------------------------------------------\n",
    "7|\tcx1\t|The x-coordinates of second control points.\n",
    "-|------|-----------------------------------------\n",
    "8|\tcy1\t|The y-coordinates of second control points.\n",
    "-|------|-----------------------------------------\n"
   ]
  },
  {
   "cell_type": "code",
   "execution_count": 19,
   "metadata": {},
   "outputs": [],
   "source": [
    "from bokeh.plotting import figure, output_file, show"
   ]
  },
  {
   "cell_type": "code",
   "execution_count": 20,
   "metadata": {},
   "outputs": [],
   "source": [
    "x = 2\n",
    "y = 4\n",
    "xp02 = x+0.4\n",
    "xp01 = x+0.1\n",
    "xm01 = x-0.1\n",
    "yp01 = y+0.2\n",
    "ym01 = y-0.2\n",
    "fig = figure(plot_width = 500, plot_height = 500)\n",
    "fig.bezier(x0 = x, y0 = y, x1 = xp02, y1 = y, cx0 = xp01, cy0 = yp01,\n",
    "cx1 = xm01, cy1 = ym01, line_color = \"red\", line_width = 2)\n",
    "output_file('6_beizer.html')\n",
    "show(fig)"
   ]
  },
  {
   "cell_type": "code",
   "execution_count": 18,
   "metadata": {},
   "outputs": [],
   "source": []
  },
  {
   "cell_type": "code",
   "execution_count": null,
   "metadata": {},
   "outputs": [],
   "source": []
  }
 ],
 "metadata": {
  "kernelspec": {
   "display_name": "Python 3",
   "language": "python",
   "name": "python3"
  },
  "language_info": {
   "codemirror_mode": {
    "name": "ipython",
    "version": 3
   },
   "file_extension": ".py",
   "mimetype": "text/x-python",
   "name": "python",
   "nbconvert_exporter": "python",
   "pygments_lexer": "ipython3",
   "version": "3.6.9"
  }
 },
 "nbformat": 4,
 "nbformat_minor": 2
}
