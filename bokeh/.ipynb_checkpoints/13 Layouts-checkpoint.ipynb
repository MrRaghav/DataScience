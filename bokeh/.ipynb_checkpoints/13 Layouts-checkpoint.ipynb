{
 "cells": [
  {
   "cell_type": "markdown",
   "metadata": {},
   "source": [
    "reference:\n",
    "    \n",
    "https://www.tutorialspoint.com/bokeh/bokeh_layouts.htm"
   ]
  },
  {
   "cell_type": "markdown",
   "metadata": {},
   "source": [
    "Bokeh visualizations can be suitably arranged in different layout options. These **layouts** as well as **sizing modes** result in plots and widgets **resizing automatically as per the size of browser window**. "
   ]
  },
  {
   "cell_type": "markdown",
   "metadata": {},
   "source": [
    "First type of layout is **Column layout** which **displays plot figures vertically**. The **column() function** is defined in **bokeh.layouts** module and takes following signature −\n",
    "\n",
    "col = column(children, sizing_mode)\n",
    "\n",
    "children − List of plots and/or widgets.\n",
    "\n",
    "sizing_mode − determines how items in the layout resize. Possible values are \"fixed\", \"stretch_both\", \"scale_width\", \"scale_height\", \"scale_both\". Default is “fixed”."
   ]
  },
  {
   "cell_type": "code",
   "execution_count": 1,
   "metadata": {},
   "outputs": [],
   "source": [
    "from bokeh.plotting import figure, output_file, show\n",
    "from bokeh.layouts import column\n",
    "import numpy as np\n",
    "import math"
   ]
  },
  {
   "cell_type": "markdown",
   "metadata": {},
   "source": [
    "Following code produces two Bokeh figures and places them in a column layout so that they are displayed vertically. Line glyphs representing sine and cos relationship between x and y data series is displayed in Each figure."
   ]
  },
  {
   "cell_type": "code",
   "execution_count": 2,
   "metadata": {},
   "outputs": [],
   "source": [
    "x = np.arange(0, math.pi*2, 0.05)\n",
    "y1 = np.sin(x)\n",
    "y2 = np.cos(x)\n",
    "fig1 = figure(plot_width = 200, plot_height = 200)\n",
    "fig1.line(x, y1,line_width = 2, line_color = 'blue')\n",
    "fig2 = figure(plot_width = 200, plot_height = 200)\n",
    "fig2.line(x, y2,line_width = 2, line_color = 'red')\n",
    "c = column(children = [fig1, fig2], sizing_mode = 'stretch_both')\n",
    "output_file('13_columnLayout.html')\n",
    "show(c)"
   ]
  },
  {
   "cell_type": "markdown",
   "metadata": {},
   "source": [
    "**Row layout** arranges plots **horizontally**, for which **row()** function as defined in bokeh.layouts module is used. As you would think, it also takes two arguments (similar to column() function) – children and sizing_mode."
   ]
  },
  {
   "cell_type": "code",
   "execution_count": 3,
   "metadata": {},
   "outputs": [],
   "source": [
    "from bokeh.layouts import row"
   ]
  },
  {
   "cell_type": "code",
   "execution_count": 4,
   "metadata": {},
   "outputs": [],
   "source": [
    "x = np.arange(0, math.pi*2, 0.05)\n",
    "y1 = np.sin(x)\n",
    "y2 = np.cos(x)\n",
    "fig1 = figure(plot_width = 200, plot_height = 200)\n",
    "fig1.line(x, y1,line_width = 2, line_color = 'blue')\n",
    "fig2 = figure(plot_width = 200, plot_height = 200)\n",
    "fig2.line(x, y2,line_width = 2, line_color = 'red')\n",
    "r = row(children = [fig1, fig2], sizing_mode = 'stretch_both')\n",
    "output_file('13_rowLayout.html')\n",
    "show(r)"
   ]
  },
  {
   "cell_type": "markdown",
   "metadata": {},
   "source": [
    "**Grid layout** holds multiple plot figures (as well as widgets) in a two dimensional grid of rows and columns. The **gridplot() function** in **bokeh.layouts** module returns a grid and a single unified toolbar which may be positioned with the help of toolbar_location property.\n",
    "\n",
    "This is unlike row or column layout where each plot shows its own toolbar. The grid() function too uses children and sizing_mode parameters where children is a list of lists. Ensure that each sublist is of same dimensions.\n",
    "\n",
    "In the following code, four different relationships between x and y data series are plotted in a grid of two rows and two columns."
   ]
  },
  {
   "cell_type": "code",
   "execution_count": 5,
   "metadata": {},
   "outputs": [],
   "source": [
    "from bokeh.layouts import gridplot"
   ]
  },
  {
   "cell_type": "code",
   "execution_count": 6,
   "metadata": {},
   "outputs": [],
   "source": [
    "x = list(range(1,11))\n",
    "\n",
    "y1 = x\n",
    "y2 =[11-i for i in x]\n",
    "y3 = [i*i for i in x]\n",
    "y4 = [math.log10(i) for i in x]\n",
    "\n",
    "fig1 = figure(plot_width = 200, plot_height = 200)\n",
    "fig1.line(x, y1,line_width = 2, line_color = 'blue')\n",
    "fig2 = figure(plot_width = 200, plot_height = 200)\n",
    "fig2.circle(x, y2,size = 10, color = 'green')\n",
    "fig3 = figure(plot_width = 200, plot_height = 200)\n",
    "fig3.circle(x,y3, size = 10, color = 'grey')\n",
    "fig4 = figure(plot_width = 200, plot_height = 200, y_axis_type = 'log')\n",
    "fig4.line(x,y4, line_width = 2, line_color = 'red')\n",
    "grid = gridplot(children = [[fig1, fig2], [fig3,fig4]], sizing_mode = 'stretch_both')\n",
    "output_file('13_gridLayout.html')\n",
    "show(grid)"
   ]
  },
  {
   "cell_type": "code",
   "execution_count": null,
   "metadata": {},
   "outputs": [],
   "source": []
  }
 ],
 "metadata": {
  "kernelspec": {
   "display_name": "Python 3",
   "language": "python",
   "name": "python3"
  },
  "language_info": {
   "codemirror_mode": {
    "name": "ipython",
    "version": 3
   },
   "file_extension": ".py",
   "mimetype": "text/x-python",
   "name": "python",
   "nbconvert_exporter": "python",
   "pygments_lexer": "ipython3",
   "version": "3.6.9"
  }
 },
 "nbformat": 4,
 "nbformat_minor": 2
}
