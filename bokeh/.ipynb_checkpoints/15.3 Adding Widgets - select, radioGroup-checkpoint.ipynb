{
 "cells": [
  {
   "cell_type": "markdown",
   "metadata": {},
   "source": [
    "reference:\n",
    "    \n",
    "https://www.tutorialspoint.com/bokeh/bokeh_adding_widgets.htm"
   ]
  },
  {
   "cell_type": "markdown",
   "metadata": {},
   "source": [
    "**Select** widget is a simple dropdown list of string items, one of which can be selected. Selected string appears at the top window and it is the value parameter.\n",
    "\n",
    "**Select(options, value)**"
   ]
  },
  {
   "cell_type": "markdown",
   "metadata": {},
   "source": [
    "The list of string elements in the dropdown is given in the form of options list object."
   ]
  },
  {
   "cell_type": "markdown",
   "metadata": {},
   "source": [
    "**RadioGroup** widget presents a collection of mutually exclusive toggle buttons showing circular buttons to the left of caption.\n",
    "\n",
    "**RadioGroup(labels, active)**\n",
    "\n",
    "Where, \n",
    "\n",
    "_labels_ is a list of captions and \n",
    "_active_ is the index of selected option."
   ]
  },
  {
   "cell_type": "markdown",
   "metadata": {},
   "source": [
    "Following is a combined example of radio button and select widgets, both providing three different relationships between x and y data series. The RadioGroup and Select widgets are registered with respective handlers through **on_change()** method."
   ]
  },
  {
   "cell_type": "code",
   "execution_count": 1,
   "metadata": {},
   "outputs": [],
   "source": [
    "from bokeh.layouts import column\n",
    "from bokeh.models import CustomJS, ColumnDataSource\n",
    "from bokeh.plotting import Figure, output_file, show\n",
    "from bokeh.models.widgets import RadioGroup, Select"
   ]
  },
  {
   "cell_type": "code",
   "execution_count": 2,
   "metadata": {},
   "outputs": [],
   "source": [
    "x = [x*0.05 for x in range(0, 200)]\n",
    "y = x\n",
    "\n",
    "source = ColumnDataSource(data=dict(x=x, y=y))\n",
    "\n",
    "plot = Figure(plot_width=400, plot_height=400)\n",
    "plot.line('x', 'y', source=source, line_width=3, line_alpha=0.6)\n",
    "\n",
    "radiohandler = CustomJS(args=dict(source=source), code=\"\"\"\n",
    "   var data = source.data;\n",
    "   console.log('Tap event occurred at x-position: ' + cb_obj.active);\n",
    "   //plot.title.text=cb_obj.value;\n",
    "   x = data['x']\n",
    "   y = data['y']\n",
    "   if (cb_obj.active==0){\n",
    "      for (i = 0; i < x.length; i++) {\n",
    "         y[i] = x[i];\n",
    "      }\n",
    "   }\n",
    "   if (cb_obj.active==1){\n",
    "      for (i = 0; i < x.length; i++) {\n",
    "         y[i] = Math.pow(x[i], 2)\n",
    "      }\n",
    "   }\n",
    "   if (cb_obj.active==2){\n",
    "      for (i = 0; i < x.length; i++) {\n",
    "         y[i] = Math.pow(x[i], 4)\n",
    "      }\n",
    "   }\n",
    "   source.change.emit();\n",
    "\"\"\")\n",
    "\n",
    "selecthandler = CustomJS(args=dict(source=source), code=\"\"\"\n",
    "   var data = source.data;\n",
    "   console.log('Tap event occurred at x-position: ' + cb_obj.value);\n",
    "   //plot.title.text=cb_obj.value;\n",
    "   x = data['x']\n",
    "   y = data['y']\n",
    "   if (cb_obj.value==\"line\"){\n",
    "      for (i = 0; i < x.length; i++) {\n",
    "         y[i] = x[i];\n",
    "      }\n",
    "   }\n",
    "   if (cb_obj.value==\"SquareCurve\"){\n",
    "      for (i = 0; i < x.length; i++) {\n",
    "         y[i] = Math.pow(x[i], 2)\n",
    "      }\n",
    "   }\n",
    "   if (cb_obj.value==\"CubeCurve\"){\n",
    "      for (i = 0; i < x.length; i++) {\n",
    "         y[i] = Math.pow(x[i], 4)\n",
    "      }\n",
    "   }\n",
    "   source.change.emit();\n",
    "\"\"\")\n",
    "\n",
    "radio = RadioGroup(\n",
    "   labels=[\"line\", \"SqureCurve\", \"CubeCurve\"], active=0)\n",
    "radio.js_on_change('active', radiohandler)\n",
    "select = Select(title=\"Select:\", value='line', options=[\"line\", \"SquareCurve\", \"CubeCurve\"])\n",
    "select.js_on_change('value', selecthandler)\n",
    "\n",
    "layout = column(radio, select, plot)\n",
    "output_file('15.3_radioGroup_select.html')\n",
    "show(layout)"
   ]
  },
  {
   "cell_type": "code",
   "execution_count": null,
   "metadata": {},
   "outputs": [],
   "source": []
  }
 ],
 "metadata": {
  "kernelspec": {
   "display_name": "Python 3",
   "language": "python",
   "name": "python3"
  },
  "language_info": {
   "codemirror_mode": {
    "name": "ipython",
    "version": 3
   },
   "file_extension": ".py",
   "mimetype": "text/x-python",
   "name": "python",
   "nbconvert_exporter": "python",
   "pygments_lexer": "ipython3",
   "version": "3.6.9"
  }
 },
 "nbformat": 4,
 "nbformat_minor": 2
}
