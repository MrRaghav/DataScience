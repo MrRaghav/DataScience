{
 "cells": [
  {
   "cell_type": "markdown",
   "metadata": {},
   "source": [
    "reference:\n",
    "    \n",
    "https://www.tutorialspoint.com/bokeh/bokeh_adding_widgets.htm"
   ]
  },
  {
   "cell_type": "markdown",
   "metadata": {},
   "source": [
    "**Slider:**\n",
    "\n",
    "With the help of a slider control it is possible to select a number between start and end properties assigned to it.\n",
    "\n",
    "**Slider(start, end, step, value)**"
   ]
  },
  {
   "cell_type": "markdown",
   "metadata": {},
   "source": [
    "In the following example, we register a **callback function** on slider’s **on_change event**. Slider’s instantaneous numeric value is available to the handler in the form of **cb_obj.value** which is used to modify the ColumnDatasource data. The plot figure continuously updates as you slide the position."
   ]
  },
  {
   "cell_type": "code",
   "execution_count": 1,
   "metadata": {},
   "outputs": [],
   "source": [
    "from bokeh.layouts import column\n",
    "from bokeh.models import CustomJS, ColumnDataSource\n",
    "from bokeh.plotting import Figure, output_file, show\n",
    "from bokeh.models.widgets import Slider"
   ]
  },
  {
   "cell_type": "code",
   "execution_count": 2,
   "metadata": {},
   "outputs": [],
   "source": [
    "x = [x*0.05 for x in range(0, 200)]\n",
    "y = x\n",
    "\n",
    "source = ColumnDataSource(data=dict(x=x, y=y))\n",
    "plot = Figure(plot_width=400, plot_height=400)\n",
    "plot.line('x', 'y', source=source, line_width=3, line_alpha=0.6)\n",
    "\n",
    "handler = CustomJS(args=dict(source=source), code=\"\"\"\n",
    "   var data = source.data;\n",
    "   var f = cb_obj.value\n",
    "   var x = data['x']\n",
    "   var y = data['y']\n",
    "   for (var i = 0; i < x.length; i++) {\n",
    "      y[i] = Math.pow(x[i], f)\n",
    "   }\n",
    "   source.change.emit();\n",
    "\"\"\")\n",
    "\n",
    "slider = Slider(start=0.0, end=5, value=1, step=.25, title=\"Slider Value\")\n",
    "\n",
    "slider.js_on_change('value', handler)\n",
    "layout = column(slider, plot)\n",
    "output_file('15.2_slider.html')\n",
    "show(layout)"
   ]
  },
  {
   "cell_type": "code",
   "execution_count": null,
   "metadata": {},
   "outputs": [],
   "source": []
  }
 ],
 "metadata": {
  "kernelspec": {
   "display_name": "Python 3",
   "language": "python",
   "name": "python3"
  },
  "language_info": {
   "codemirror_mode": {
    "name": "ipython",
    "version": 3
   },
   "file_extension": ".py",
   "mimetype": "text/x-python",
   "name": "python",
   "nbconvert_exporter": "python",
   "pygments_lexer": "ipython3",
   "version": "3.6.9"
  }
 },
 "nbformat": 4,
 "nbformat_minor": 2
}
