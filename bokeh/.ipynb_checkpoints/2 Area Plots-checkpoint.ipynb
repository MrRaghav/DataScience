{
 "cells": [
  {
   "cell_type": "markdown",
   "metadata": {},
   "source": [
    "reference:\n",
    "    \n",
    "https://www.tutorialspoint.com/bokeh/bokeh_area_plots.htm"
   ]
  },
  {
   "cell_type": "code",
   "execution_count": 1,
   "metadata": {},
   "outputs": [],
   "source": [
    "from bokeh.plotting import figure, output_file, show"
   ]
  },
  {
   "cell_type": "markdown",
   "metadata": {},
   "source": [
    "**varea()**\n",
    "\n",
    "Output of the varea() method is a vertical directed area that has one x coordinate array, and two y coordinate arrays, y1 and y2, which will be filled between.\n",
    "\n",
    "1--x--The x-coordinates for the points of the area.\n",
    "\n",
    "2--y1--The y-coordinates for the points of one side of the area.\n",
    "\n",
    "3--y2--The y-coordinates for the points of the other side of the area."
   ]
  },
  {
   "cell_type": "code",
   "execution_count": 2,
   "metadata": {},
   "outputs": [],
   "source": [
    "fig = figure()\n",
    "x = [1, 2, 3, 4, 5]\n",
    "y1 = [2, 6, 4, 3, 5]\n",
    "y2 = [1, 4, 2, 2, 3]\n",
    "fig.varea(x = x,y1 = y1,y2 = y2)\n",
    "output_file('2 area.html')\n",
    "show(fig)"
   ]
  },
  {
   "cell_type": "markdown",
   "metadata": {},
   "source": [
    "**harea()**\n",
    "\n",
    "The harea() method on the other hand needs x1, x2 and y parameters.\n",
    "\n",
    "1--x1--The x-coordinates for the points of one side of the area.\n",
    "\n",
    "2--x2--The x-coordinates for the points of the other side of the area.\n",
    "\n",
    "3--y--The y-coordinates for the points of the area."
   ]
  },
  {
   "cell_type": "code",
   "execution_count": 3,
   "metadata": {},
   "outputs": [],
   "source": [
    "fig = figure()\n",
    "y = [1, 2, 3, 4, 5]\n",
    "x1 = [2, 6, 4, 3, 5]\n",
    "x2 = [1, 4, 2, 2, 3]\n",
    "fig.harea(x1 = x1,x2 = x2,y = y)\n",
    "output_file('2 area 1.html')\n",
    "show(fig)"
   ]
  },
  {
   "cell_type": "code",
   "execution_count": null,
   "metadata": {},
   "outputs": [],
   "source": []
  }
 ],
 "metadata": {
  "kernelspec": {
   "display_name": "Python 3",
   "language": "python",
   "name": "python3"
  },
  "language_info": {
   "codemirror_mode": {
    "name": "ipython",
    "version": 3
   },
   "file_extension": ".py",
   "mimetype": "text/x-python",
   "name": "python",
   "nbconvert_exporter": "python",
   "pygments_lexer": "ipython3",
   "version": "3.6.9"
  }
 },
 "nbformat": 4,
 "nbformat_minor": 2
}
