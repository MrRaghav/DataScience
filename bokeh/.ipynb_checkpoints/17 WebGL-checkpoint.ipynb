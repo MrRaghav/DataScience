{
 "cells": [
  {
   "cell_type": "markdown",
   "metadata": {},
   "source": [
    "reference:\n",
    "    \n",
    "https://www.tutorialspoint.com/bokeh/bokeh_extending_webgl.htm"
   ]
  },
  {
   "cell_type": "markdown",
   "metadata": {},
   "source": [
    "When one has to use large datasets for creating visualizations with the help of Bokeh, the interaction can be very slow. For that purpose, one can enable **Web Graphics Library (WebGL)** support."
   ]
  },
  {
   "cell_type": "markdown",
   "metadata": {},
   "source": [
    "WebGL is a **JavaScript API** that renders content in the browser **using GPU** (graphics processing unit). This standardized plugin is available in all modern browsers.\n",
    "\n",
    "To enable WebGL, all you have to do is set output_backend property of Bokeh Figure object to ‘webgl’.\n",
    "\n",
    "**fig = figure(output_backend=\"webgl\")**"
   ]
  },
  {
   "cell_type": "code",
   "execution_count": 1,
   "metadata": {},
   "outputs": [],
   "source": [
    "import numpy as np\n",
    "from bokeh.plotting import figure, show, output_file"
   ]
  },
  {
   "cell_type": "code",
   "execution_count": 3,
   "metadata": {},
   "outputs": [],
   "source": [
    "N = 10000\n",
    "x = np.random.normal(0, np.pi, N)\n",
    "y = np.sin(x) + np.random.normal(0, 0.2, N)\n",
    "#output_file(\"scatterWebGL.html\")\n",
    "p = figure(output_backend=\"webgl\")\n",
    "p.scatter(x, y, alpha=0.1)\n",
    "output_file('17_webgl.html')\n",
    "show(p)"
   ]
  },
  {
   "cell_type": "code",
   "execution_count": null,
   "metadata": {},
   "outputs": [],
   "source": []
  }
 ],
 "metadata": {
  "kernelspec": {
   "display_name": "Python 3",
   "language": "python",
   "name": "python3"
  },
  "language_info": {
   "codemirror_mode": {
    "name": "ipython",
    "version": 3
   },
   "file_extension": ".py",
   "mimetype": "text/x-python",
   "name": "python",
   "nbconvert_exporter": "python",
   "pygments_lexer": "ipython3",
   "version": "3.6.9"
  }
 },
 "nbformat": 4,
 "nbformat_minor": 2
}
