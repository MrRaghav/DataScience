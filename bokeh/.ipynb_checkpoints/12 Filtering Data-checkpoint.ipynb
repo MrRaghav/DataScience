{
 "cells": [
  {
   "cell_type": "markdown",
   "metadata": {},
   "source": [
    "reference:\n",
    "    \n",
    "https://www.tutorialspoint.com/bokeh/bokeh_filtering_data.htm"
   ]
  },
  {
   "cell_type": "markdown",
   "metadata": {},
   "source": [
    "Object of the **CDSView class** defined in **bokeh.models** module returns a subset of ColumnDatasource under consideration by applying one or more filters over it."
   ]
  },
  {
   "cell_type": "markdown",
   "metadata": {},
   "source": [
    "**IndexFilter** is the simplest type of filter. You have to specify indices of only those rows from the dataset that you want to use while plotting the figure."
   ]
  },
  {
   "cell_type": "markdown",
   "metadata": {},
   "source": [
    "A **view object** is obtained by applying index filter over it. The **view** is used to plot **circle glyph** as a result of IndexFilter."
   ]
  },
  {
   "cell_type": "code",
   "execution_count": 1,
   "metadata": {},
   "outputs": [],
   "source": [
    "from bokeh.models import ColumnDataSource, CDSView, IndexFilter\n",
    "from bokeh.plotting import figure, output_file, show"
   ]
  },
  {
   "cell_type": "code",
   "execution_count": 2,
   "metadata": {},
   "outputs": [],
   "source": [
    "source = ColumnDataSource(data = dict(x = list(range(1,11)), y = list(range(2,22,2))))\n",
    "view = CDSView(source=source, filters = [IndexFilter([0, 2, 4,6])])\n",
    "fig = figure(title = 'Line Plot example', x_axis_label = 'x', y_axis_label = 'y')\n",
    "fig.circle(x = \"x\", y = \"y\", size = 10, source = source, view = view, legend = 'filtered')\n",
    "fig.line(source.data['x'],source.data['y'], legend = 'unfiltered')\n",
    "output_file('12_lineplot.html')\n",
    "show(fig)"
   ]
  },
  {
   "cell_type": "markdown",
   "metadata": {},
   "source": [
    "To choose only those rows from the data source, that satisfy a certain Boolean condition, apply a **BooleanFilter**"
   ]
  },
  {
   "cell_type": "markdown",
   "metadata": {},
   "source": [
    "we use **unemployment1948** dataset provided in the form of **unemployment1948.csv** .\n",
    "\n",
    "It stores year wise percentage of unemployment in USA since 1948. We want to generate a plot only for year 1980 onwards. For that purpose, a CDSView object is obtained by applying **BooleanFilter** over the given data source."
   ]
  },
  {
   "cell_type": "code",
   "execution_count": 4,
   "metadata": {},
   "outputs": [],
   "source": [
    "from bokeh.sampledata.unemployment1948 import data\n",
    "from bokeh.models import BooleanFilter"
   ]
  },
  {
   "cell_type": "code",
   "execution_count": 5,
   "metadata": {},
   "outputs": [
    {
     "name": "stdout",
     "output_type": "stream",
     "text": [
      "[False, False, False, False, False, False, False, False, False, False, False, False, False, False, False, False, False, False, False, False, False, False, False, False, False, False, False, False, False, False, False, False, True, True, True, True, True, True, True, True, True, True, True, True, True, True, True, True, True, True, True, True, True, True, True, True, True, True, True, True, True, True, True, True, True, True, True, True, True]\n"
     ]
    }
   ],
   "source": [
    "source = ColumnDataSource(data)\n",
    "booleans = [True if int(year) >= 1980 else False for year in\n",
    "source.data['Year']]\n",
    "print (booleans)\n",
    "view1 = CDSView(source = source, filters=[BooleanFilter(booleans)])\n",
    "p = figure(title = \"Unemployment data\", x_range = (1980,2020), x_axis_label = 'Year', y_axis_label='Percentage')\n",
    "p.line(x = 'Year', y = 'Annual', source = source, view = view1, color = 'red', line_width = 2)\n",
    "output_file('12_unemployment.html')\n",
    "show(p)"
   ]
  },
  {
   "cell_type": "code",
   "execution_count": null,
   "metadata": {},
   "outputs": [],
   "source": []
  }
 ],
 "metadata": {
  "kernelspec": {
   "display_name": "Python 3",
   "language": "python",
   "name": "python3"
  },
  "language_info": {
   "codemirror_mode": {
    "name": "ipython",
    "version": 3
   },
   "file_extension": ".py",
   "mimetype": "text/x-python",
   "name": "python",
   "nbconvert_exporter": "python",
   "pygments_lexer": "ipython3",
   "version": "3.6.9"
  }
 },
 "nbformat": 4,
 "nbformat_minor": 2
}
