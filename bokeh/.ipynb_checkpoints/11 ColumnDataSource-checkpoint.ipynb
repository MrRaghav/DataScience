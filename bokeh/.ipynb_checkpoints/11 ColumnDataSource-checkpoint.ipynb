{
 "cells": [
  {
   "cell_type": "markdown",
   "metadata": {},
   "source": [
    "reference:\n",
    "    \n",
    "https://www.tutorialspoint.com/bokeh/bokeh_columndatasource.htm"
   ]
  },
  {
   "cell_type": "markdown",
   "metadata": {},
   "source": [
    "Most of the plotting methods in Bokeh API are able to receive data source parameters through **ColumnDatasource object** . It makes sharing data between plots and ‘DataTables’."
   ]
  },
  {
   "cell_type": "markdown",
   "metadata": {},
   "source": [
    "A ColumnDatasource can be considered as **a mapping between column name and list of data** . "
   ]
  },
  {
   "cell_type": "markdown",
   "metadata": {},
   "source": [
    "A Python dict object with one or more string keys and lists or numpy arrays as values is passed to ColumnDataSource constructor."
   ]
  },
  {
   "cell_type": "markdown",
   "metadata": {},
   "source": [
    "This object is then used as value of source property in a glyph method. Following code generates a scatter plot using ColumnDataSource."
   ]
  },
  {
   "cell_type": "code",
   "execution_count": 1,
   "metadata": {},
   "outputs": [],
   "source": [
    "from bokeh.plotting import figure, output_file, show\n",
    "from bokeh.models import ColumnDataSource"
   ]
  },
  {
   "cell_type": "code",
   "execution_count": 2,
   "metadata": {},
   "outputs": [],
   "source": [
    "data = {'x':[1, 4, 3, 2, 5],\n",
    "   'y':[6, 5, 2, 4, 7]}\n",
    "cds = ColumnDataSource(data = data)\n",
    "fig = figure()\n",
    "fig.scatter(x = 'x', y = 'y',source = cds, marker = \"circle\", size = 20, fill_color = \"grey\")\n",
    "output_file('11_scatterPlot.html')\n",
    "show(fig)"
   ]
  },
  {
   "cell_type": "markdown",
   "metadata": {},
   "source": [
    "Instead of assigning a Python dictionary to ColumnDataSource, we can use a Pandas DataFrame for it.\n",
    "\n",
    "Let us use ‘10 pandas.csv’ (used earlier in this section) to obtain a DataFrame and use it for getting ColumnDataSource and rendering line plot."
   ]
  },
  {
   "cell_type": "code",
   "execution_count": 3,
   "metadata": {},
   "outputs": [],
   "source": [
    "import pandas as pd"
   ]
  },
  {
   "cell_type": "code",
   "execution_count": 4,
   "metadata": {},
   "outputs": [],
   "source": [
    "df = pd.read_csv('10 Pandas.csv')\n",
    "cds = ColumnDataSource(df)\n",
    "fig = figure(y_axis_type = 'log')\n",
    "fig.line(x = 'x', y = 'pow',source = cds, line_color = \"grey\")\n",
    "output_file('11_pandas.html')\n",
    "show(fig)"
   ]
  },
  {
   "cell_type": "code",
   "execution_count": null,
   "metadata": {},
   "outputs": [],
   "source": []
  }
 ],
 "metadata": {
  "kernelspec": {
   "display_name": "Python 3",
   "language": "python",
   "name": "python3"
  },
  "language_info": {
   "codemirror_mode": {
    "name": "ipython",
    "version": 3
   },
   "file_extension": ".py",
   "mimetype": "text/x-python",
   "name": "python",
   "nbconvert_exporter": "python",
   "pygments_lexer": "ipython3",
   "version": "3.6.9"
  }
 },
 "nbformat": 4,
 "nbformat_minor": 2
}
