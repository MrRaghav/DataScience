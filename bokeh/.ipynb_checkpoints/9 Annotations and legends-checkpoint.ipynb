{
 "cells": [
  {
   "cell_type": "markdown",
   "metadata": {},
   "source": [
    "reference:\n",
    "    \n",
    "https://www.tutorialspoint.com/bokeh/bokeh_annotations_and_legends.htm"
   ]
  },
  {
   "cell_type": "markdown",
   "metadata": {},
   "source": [
    "**Annotations** are pieces of explanatory text added to the diagram. Bokeh plot can be annotated by way of specifying plot title, labels for x and y axes as well as inserting text labels anywhere in the plot area."
   ]
  },
  {
   "cell_type": "markdown",
   "metadata": {},
   "source": [
    "Plot title as well as x and y axis labels can be provided in the Figure constructor itself.\n",
    "\n",
    "fig = figure(title, x_axis_label, y_axis_label)"
   ]
  },
  {
   "cell_type": "code",
   "execution_count": 1,
   "metadata": {},
   "outputs": [],
   "source": [
    "from bokeh.plotting import figure, output_file, show\n",
    "import numpy as np\n",
    "import math"
   ]
  },
  {
   "cell_type": "code",
   "execution_count": 5,
   "metadata": {},
   "outputs": [],
   "source": [
    "x = np.arange(0, math.pi*2, 0.05)\n",
    "y = np.sin(x)\n",
    "fig = figure(title = \"sine wave example\", x_axis_label = 'angle', y_axis_label = 'sin')\n",
    "fig.line(x, y,line_width = 2)\n",
    "output_file('9_annotations.html')\n",
    "show(fig)"
   ]
  },
  {
   "cell_type": "markdown",
   "metadata": {},
   "source": [
    "The title’s text and axis labels can also be specified by assigning appropriate string values to corresponding properties of figure object."
   ]
  },
  {
   "cell_type": "code",
   "execution_count": 6,
   "metadata": {},
   "outputs": [],
   "source": [
    "fig.title.text = \"sine wave example\"\n",
    "fig.xaxis.axis_label = 'angle'\n",
    "fig.yaxis.axis_label = 'sin'"
   ]
  },
  {
   "cell_type": "markdown",
   "metadata": {},
   "source": [
    "It is also possible to specify location, alignment, font and color of title."
   ]
  },
  {
   "cell_type": "code",
   "execution_count": 7,
   "metadata": {},
   "outputs": [],
   "source": [
    "fig.title.align = \"right\"\n",
    "fig.title.text_color = \"orange\"\n",
    "fig.title.text_font_size = \"25px\"\n",
    "fig.title.background_fill_color = \"blue\""
   ]
  },
  {
   "cell_type": "markdown",
   "metadata": {},
   "source": [
    "Adding legends to the plot figure is very easy. We have to use legend property of any glyph method.\n",
    "\n",
    "Below we have three glyph curves in the plot with three different legends −"
   ]
  },
  {
   "cell_type": "code",
   "execution_count": 8,
   "metadata": {},
   "outputs": [],
   "source": [
    "x = np.arange(0, math.pi*2, 0.05)\n",
    "fig = figure()\n",
    "fig.line(x, np.sin(x),line_width = 2, line_color = 'navy', legend = 'sine')\n",
    "fig.circle(x,np.cos(x), line_width = 2, line_color = 'orange', legend = 'cosine')\n",
    "fig.square(x,-np.sin(x),line_width = 2, line_color = 'grey', legend = '-sine')\n",
    "output_file('9_legends.html')\n",
    "show(fig)"
   ]
  },
  {
   "cell_type": "code",
   "execution_count": null,
   "metadata": {},
   "outputs": [],
   "source": []
  }
 ],
 "metadata": {
  "kernelspec": {
   "display_name": "Python 3",
   "language": "python",
   "name": "python3"
  },
  "language_info": {
   "codemirror_mode": {
    "name": "ipython",
    "version": 3
   },
   "file_extension": ".py",
   "mimetype": "text/x-python",
   "name": "python",
   "nbconvert_exporter": "python",
   "pygments_lexer": "ipython3",
   "version": "3.6.9"
  }
 },
 "nbformat": 4,
 "nbformat_minor": 2
}
