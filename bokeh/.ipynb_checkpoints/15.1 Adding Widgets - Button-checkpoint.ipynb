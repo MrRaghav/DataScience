{
 "cells": [
  {
   "cell_type": "markdown",
   "metadata": {},
   "source": [
    "reference:\n",
    "    \n",
    "https://www.tutorialspoint.com/bokeh/bokeh_adding_widgets.htm"
   ]
  },
  {
   "cell_type": "markdown",
   "metadata": {},
   "source": [
    "**bokeh.models.widgets module** contains definitions of GUI objects similar to HTML form elements, such as _button, slider, checkbox, radio button,_ etc"
   ]
  },
  {
   "cell_type": "markdown",
   "metadata": {},
   "source": [
    "These controls provide interactive interface to a plot. Invoking processing such as modifying plot data, changing plot parameters, etc., can be performed by custom JavaScript functions executed on corresponding events."
   ]
  },
  {
   "cell_type": "markdown",
   "metadata": {},
   "source": [
    "Bokeh allows call back functionality to be defined with two methods −\n",
    "\n",
    "---Use the CustomJS callback so that the interactivity will work in standalone HTML documents.\n",
    "\n",
    "---Use Bokeh server and set up event handlers.\n",
    "\n",
    "In this section, we shall see how to add Bokeh widgets and assign JavaScript callbacks."
   ]
  },
  {
   "cell_type": "code",
   "execution_count": null,
   "metadata": {},
   "outputs": [],
   "source": []
  },
  {
   "cell_type": "markdown",
   "metadata": {},
   "source": [
    "**Button widget** is a clickable button generally used to invoke a user defined call back handler. The constructor takes following parameters −\n",
    "\n",
    "**Button(label, icon, callback)**\n",
    "\n",
    "The _label parameter_ is a string used as button’s caption and _callback_ is the custom JavaScript function to be called when clicked."
   ]
  },
  {
   "cell_type": "markdown",
   "metadata": {},
   "source": [
    "In the following example, a plot and Button widget are displayed in Column layout. The plot itself renders a line glyph between x and y data series.\n",
    "\n",
    "A custom JavaScript function named ‘callback’ has been defined using CutomJS() function. It receives reference to the object that triggered callback (in this case the button) in the form variable cb_obj.\n",
    "\n",
    "This function alters the source ColumnDataSource data and finally emits this update in source data."
   ]
  },
  {
   "cell_type": "code",
   "execution_count": 1,
   "metadata": {},
   "outputs": [],
   "source": [
    "from bokeh.layouts import column\n",
    "from bokeh.models import CustomJS, ColumnDataSource\n",
    "from bokeh.plotting import Figure, output_file, show\n",
    "from bokeh.models.widgets import Button"
   ]
  },
  {
   "cell_type": "code",
   "execution_count": 4,
   "metadata": {},
   "outputs": [],
   "source": [
    "x = [x*0.05 for x in range(0, 200)]\n",
    "y = x\n",
    "\n",
    "source = ColumnDataSource(data=dict(x=x, y=y))\n",
    "plot = Figure(plot_width=400, plot_height=400)\n",
    "plot.line('x', 'y', source=source, line_width=3, line_alpha=0.6)\n",
    "\n",
    "callback = CustomJS(args=dict(source=source), code=\"\"\"\n",
    "   var data = source.data;\n",
    "   x = data['x']\n",
    "   y = data['y']\n",
    "   for (i = 0; i < x.length; i++) {\n",
    "      y[i] = Math.pow(x[i], 4)\n",
    "   }\n",
    "   source.change.emit();\n",
    "\"\"\")\n",
    "\n",
    "btn = Button(label=\"click me once !!!!!!!!!\", callback=callback, name=\"1\")\n",
    "\n",
    "layout = column(btn , plot)\n",
    "output_file('15.1_button.html')\n",
    "show(layout)"
   ]
  },
  {
   "cell_type": "code",
   "execution_count": null,
   "metadata": {},
   "outputs": [],
   "source": []
  }
 ],
 "metadata": {
  "kernelspec": {
   "display_name": "Python 3",
   "language": "python",
   "name": "python3"
  },
  "language_info": {
   "codemirror_mode": {
    "name": "ipython",
    "version": 3
   },
   "file_extension": ".py",
   "mimetype": "text/x-python",
   "name": "python",
   "nbconvert_exporter": "python",
   "pygments_lexer": "ipython3",
   "version": "3.6.9"
  }
 },
 "nbformat": 4,
 "nbformat_minor": 2
}
