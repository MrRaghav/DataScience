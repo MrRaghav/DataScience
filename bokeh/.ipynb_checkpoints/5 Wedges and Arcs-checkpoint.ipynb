{
 "cells": [
  {
   "cell_type": "markdown",
   "metadata": {},
   "source": [
    "reference:\n",
    "    \n",
    "https://www.tutorialspoint.com/bokeh/bokeh_wedges_and_arcs.htm"
   ]
  },
  {
   "cell_type": "markdown",
   "metadata": {},
   "source": [
    "**arc()** method draws a simple line arc based on x and y coordinates, start and end angles and radius. Angles are given in radians whereas radius may be in screen units or data units."
   ]
  },
  {
   "cell_type": "markdown",
   "metadata": {},
   "source": [
    "The wedge is a filled arc.\n",
    "\n",
    "\n",
    "**wedge()** method has same properties as arc() method. Both methods have provision of optional direction property which may be clock or anticlock that determines the direction of arc/wedge rendering\n",
    "\n",
    "\n",
    "**annular_wedge()** function renders a filled area between to arcs of inner and outer radius**"
   ]
  },
  {
   "cell_type": "code",
   "execution_count": 1,
   "metadata": {},
   "outputs": [],
   "source": [
    "from bokeh.plotting import figure, output_file, show\n",
    "import math"
   ]
  },
  {
   "cell_type": "code",
   "execution_count": 3,
   "metadata": {},
   "outputs": [],
   "source": [
    "fig = figure(plot_width = 500, plot_height = 500)\n",
    "fig.arc(x = 3, y = 3, radius = 50, radius_units = 'screen', start_angle = 0.0, end_angle = math.pi/2)\n",
    "\n",
    "fig.wedge(x = 3, y = 3, radius = 30, radius_units = 'screen',\n",
    "start_angle = 0, end_angle = math.pi, direction = 'clock')\n",
    "\n",
    "fig.annular_wedge(x = 3,y = 3, inner_radius = 100, outer_radius = 75,outer_radius_units = 'screen',\n",
    "inner_radius_units = 'screen',start_angle = 0.4, end_angle = 4.5,color = \"green\", alpha = 0.6)\n",
    "\n",
    "output_file('5_wedges_arcs.html')\n",
    "show(fig)"
   ]
  },
  {
   "cell_type": "code",
   "execution_count": null,
   "metadata": {},
   "outputs": [],
   "source": []
  }
 ],
 "metadata": {
  "kernelspec": {
   "display_name": "Python 3",
   "language": "python",
   "name": "python3"
  },
  "language_info": {
   "codemirror_mode": {
    "name": "ipython",
    "version": 3
   },
   "file_extension": ".py",
   "mimetype": "text/x-python",
   "name": "python",
   "nbconvert_exporter": "python",
   "pygments_lexer": "ipython3",
   "version": "3.6.9"
  }
 },
 "nbformat": 4,
 "nbformat_minor": 2
}
