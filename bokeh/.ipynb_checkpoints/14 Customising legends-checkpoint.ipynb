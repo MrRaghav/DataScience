{
 "cells": [
  {
   "cell_type": "markdown",
   "metadata": {},
   "source": [
    "reference:\n",
    "    \n",
    "https://www.tutorialspoint.com/bokeh/bokeh_customising_legends.htm"
   ]
  },
  {
   "cell_type": "markdown",
   "metadata": {},
   "source": [
    "Various glyphs in a plot can be identified by legend property appear as a label by default at top-right position of the plot area. This legend can be customised by following attributes −"
   ]
  },
  {
   "cell_type": "markdown",
   "metadata": {},
   "source": [
    "1\tlegend.label_text_font\t       ---- change default label font to specified font name\n",
    "\n",
    "2\tlegend.label_text_font_size\t   ---- font size in points\n",
    "\n",
    "3\tlegend.location\t               ---- set the label at specified location.\n",
    "\n",
    "4\tlegend.title\t               ---- set title for legend label\t\n",
    "\n",
    "5\tlegend.orientation\t           ---- set to horizontal (default) or vertical\n",
    "\n",
    "6\tlegend.clicking_policy\t       ---- specify what should happen when legend is clicked hide: \n",
    "                                        hides the glyph corresponding to legend mute: \n",
    "\t\t\t\t\t\t\t\t\t\tmutes the glyph corresponding to legendtd>"
   ]
  },
  {
   "cell_type": "code",
   "execution_count": 1,
   "metadata": {},
   "outputs": [],
   "source": [
    "from bokeh.plotting import figure, output_file, show\n",
    "import math"
   ]
  },
  {
   "cell_type": "code",
   "execution_count": 2,
   "metadata": {},
   "outputs": [],
   "source": [
    "x2 = list(range(1,11))\n",
    "y4 = [math.pow(i,2) for i in x2]\n",
    "y2 = [math.log10(pow(10,i)) for i in x2]\n",
    "fig = figure(y_axis_type = 'log')\n",
    "fig.circle(x2, y2,size = 5, color = 'blue', legend = 'blue circle')\n",
    "fig.line(x2,y4, line_width = 2, line_color = 'red', legend = 'red line')\n",
    "fig.legend.location = 'top_left'\n",
    "fig.legend.title = 'Legend Title'\n",
    "fig.legend.title_text_font = 'Arial'\n",
    "fig.legend.title_text_font_size = '20pt'\n",
    "output_file('14_customized_legends.html')\n",
    "show(fig)"
   ]
  },
  {
   "cell_type": "code",
   "execution_count": null,
   "metadata": {},
   "outputs": [],
   "source": []
  }
 ],
 "metadata": {
  "kernelspec": {
   "display_name": "Python 3",
   "language": "python",
   "name": "python3"
  },
  "language_info": {
   "codemirror_mode": {
    "name": "ipython",
    "version": 3
   },
   "file_extension": ".py",
   "mimetype": "text/x-python",
   "name": "python",
   "nbconvert_exporter": "python",
   "pygments_lexer": "ipython3",
   "version": "3.6.9"
  }
 },
 "nbformat": 4,
 "nbformat_minor": 2
}
