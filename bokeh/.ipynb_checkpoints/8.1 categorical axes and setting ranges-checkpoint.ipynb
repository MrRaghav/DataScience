{
 "cells": [
  {
   "cell_type": "markdown",
   "metadata": {},
   "source": [
    "reference:\n",
    "    \n",
    "https://www.tutorialspoint.com/bokeh/bokeh_setting_ranges.htm"
   ]
  },
  {
   "cell_type": "markdown",
   "metadata": {},
   "source": [
    "Numeric ranges of data axes of a plot are automatically set by Bokeh taking into consideration the dataset under process. "
   ]
  },
  {
   "cell_type": "markdown",
   "metadata": {},
   "source": [
    "However, sometimes you may want to define the range of values on x and y axis explicitly. This is done by assigning **x_range** and **y_range** properties to a **figure()** function"
   ]
  },
  {
   "cell_type": "markdown",
   "metadata": {},
   "source": [
    "These ranges are defined with the help of **range1d()** function."
   ]
  },
  {
   "cell_type": "code",
   "execution_count": 2,
   "metadata": {},
   "outputs": [],
   "source": [
    "from bokeh.plotting import figure, output_file, show"
   ]
  },
  {
   "cell_type": "code",
   "execution_count": 8,
   "metadata": {},
   "outputs": [],
   "source": [
    "from bokeh.models import Range1d"
   ]
  },
  {
   "cell_type": "code",
   "execution_count": 9,
   "metadata": {},
   "outputs": [],
   "source": [
    "xrange = Range1d(0,10)"
   ]
  },
  {
   "cell_type": "code",
   "execution_count": 14,
   "metadata": {},
   "outputs": [],
   "source": [
    "fig = figure(x_range = xrange)"
   ]
  },
  {
   "cell_type": "markdown",
   "metadata": {},
   "source": [
    "reference:\n",
    "    \n",
    "https://www.tutorialspoint.com/bokeh/bokeh_axes.htm"
   ]
  },
  {
   "cell_type": "markdown",
   "metadata": {},
   "source": [
    "**Categorical Axes**\tThe bokeh plots show numerical data along both x and y axes. In order to use categorical data along either of axes, we need to specify a FactorRange to specify categorical dimensions for one of them.\n",
    "\n",
    "**Log Scale Axes**\tIf there exists a power law relationship between x and y data series, it is desirable to use log scales on both axes.\n",
    "\n",
    "**Twin Axes**\tIt may be needed to show multiple axes representing varying ranges on a single plot figure. The figure object can be so configured by defining extra_x_range and extra_y_range properties"
   ]
  },
  {
   "cell_type": "code",
   "execution_count": 24,
   "metadata": {},
   "outputs": [],
   "source": [
    "#1. Categorical Axes\n",
    "\n",
    "langs = ['C', 'C++', 'Java', 'Python', 'PHP']\n",
    "students = [23,17,35,29,12]\n",
    "fig = figure(x_range = langs, plot_width = 500, plot_height = 500)\n",
    "fig.vbar(x = langs, top = students, width = 0.5)\n",
    "output_file('8.1_categorical_barChart.html')\n",
    "show(fig)"
   ]
  },
  {
   "cell_type": "markdown",
   "metadata": {},
   "source": [
    "To show each bar in different colour, set **color property** of **vbar()** function to list of color values."
   ]
  },
  {
   "cell_type": "code",
   "execution_count": 25,
   "metadata": {},
   "outputs": [],
   "source": [
    "cols = ['red','green','orange','navy', 'cyan']\n",
    "fig = figure(x_range = langs, plot_width = 500, plot_height = 500)\n",
    "fig.vbar(x = langs, top = students, color = cols,width=0.5)\n",
    "output_file('8.1_categorical_barChart_coloured.html')\n",
    "show(fig)"
   ]
  },
  {
   "cell_type": "markdown",
   "metadata": {},
   "source": [
    "To render a vertical (or horizontal) stacked bar using **vbar_stack()** or **hbar_stack()** function, set stackers property to list of fields to stack successively and source property to a dict object containing values corresponding to each field."
   ]
  },
  {
   "cell_type": "code",
   "execution_count": 26,
   "metadata": {},
   "outputs": [],
   "source": [
    "products = ['computer','mobile','printer']\n",
    "months = ['Jan','Feb','Mar']\n",
    "sales = {'products':products,\n",
    "   'Jan':[10,40,5],\n",
    "   'Feb':[8,45,10],\n",
    "   'Mar':[25,60,22]}\n",
    "cols = ['red','green','blue']#,'navy', 'cyan']\n",
    "fig = figure(x_range = products, plot_width = 500, plot_height = 500)\n",
    "fig.vbar_stack(months, x = 'products', source = sales, color = cols,width = 0.5)\n",
    "output_file('8.1_stacked_colour_barChart.html')\n",
    "show(fig)"
   ]
  },
  {
   "cell_type": "markdown",
   "metadata": {},
   "source": [
    "A **grouped bar plot** is obtained by specifying a visual displacement for the bars with the help of **dodge()** function in **bokeh.transform** module.\n",
    "\n",
    "The **dodge()** function introduces a relative offset for each bar plot thereby achieving a visual impression of group. In following example, **vbar()** glyph is separated by an offset of 0.25 for each group of bars for a particular month."
   ]
  },
  {
   "cell_type": "code",
   "execution_count": 27,
   "metadata": {},
   "outputs": [],
   "source": [
    "from bokeh.transform import dodge"
   ]
  },
  {
   "cell_type": "code",
   "execution_count": 28,
   "metadata": {},
   "outputs": [],
   "source": [
    "products = ['computer','mobile','printer']\n",
    "months = ['Jan','Feb','Mar']\n",
    "sales = {'products':products,\n",
    "   'Jan':[10,40,5],\n",
    "   'Feb':[8,45,10],\n",
    "   'Mar':[25,60,22]}\n",
    "fig = figure(x_range = products, plot_width = 500, plot_height = 500)\n",
    "fig.vbar(x = dodge('products', -0.25, range = fig.x_range), top = 'Jan',\n",
    "   width = 0.2,source = sales, color = \"red\")\n",
    "fig.vbar(x = dodge('products', 0.0, range = fig.x_range), top = 'Feb',\n",
    "   width = 0.2, source = sales,color = \"green\")\n",
    "fig.vbar(x = dodge('products', 0.25, range = fig.x_range), top = 'Mar',\n",
    "   width = 0.2,source = sales,color = \"blue\")\n",
    "output_file('8.1_grouped_barChart.html')\n",
    "show(fig)"
   ]
  },
  {
   "cell_type": "code",
   "execution_count": null,
   "metadata": {},
   "outputs": [],
   "source": []
  }
 ],
 "metadata": {
  "kernelspec": {
   "display_name": "Python 3",
   "language": "python",
   "name": "python3"
  },
  "language_info": {
   "codemirror_mode": {
    "name": "ipython",
    "version": 3
   },
   "file_extension": ".py",
   "mimetype": "text/x-python",
   "name": "python",
   "nbconvert_exporter": "python",
   "pygments_lexer": "ipython3",
   "version": "3.6.9"
  }
 },
 "nbformat": 4,
 "nbformat_minor": 2
}
