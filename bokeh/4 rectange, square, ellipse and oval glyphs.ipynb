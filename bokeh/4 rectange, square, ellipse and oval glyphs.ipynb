{
 "cells": [
  {
   "cell_type": "markdown",
   "metadata": {},
   "source": [
    "reference:\n",
    "    \n",
    "https://www.tutorialspoint.com/bokeh/bokeh_rectangle_oval_and_polygon.htm"
   ]
  },
  {
   "cell_type": "markdown",
   "metadata": {},
   "source": [
    "The **rect()** method of Figure class adds a rectangle glyph based on x and y coordinates of center, width and height. The **square()** method on the other hand has size parameter to decide dimensions.\n",
    "\n",
    "The **ellipse()** and **oval()** methods adds an ellipse and oval glyph. They use similar signature to that of rect() having x, y,w and h parameters. Additionally, angle parameter determines rotation from horizontal."
   ]
  },
  {
   "cell_type": "code",
   "execution_count": 1,
   "metadata": {},
   "outputs": [],
   "source": [
    "from bokeh.plotting import figure, output_file, show"
   ]
  },
  {
   "cell_type": "code",
   "execution_count": 7,
   "metadata": {},
   "outputs": [],
   "source": [
    "fig = figure(plot_width = 500, plot_height = 500)\n",
    "fig.rect(x = 10,y = 10,width = 100, height = 50, width_units = 'screen', height_units = 'screen')\n",
    "fig.square(x = 2,y = 3,size = 80, color = 'red')\n",
    "fig.ellipse(x = 7,y = 6, width = 30, height = 10, fill_color = None, line_width = 2)\n",
    "fig.oval(x = 6,y = 6,width = 2, height = 1, angle = -0.4)\n",
    "output_file('4_rectangle_square_ellipse_and_oval_glyph.html')\n",
    "show(fig)"
   ]
  },
  {
   "cell_type": "code",
   "execution_count": null,
   "metadata": {},
   "outputs": [],
   "source": []
  }
 ],
 "metadata": {
  "kernelspec": {
   "display_name": "Python 3",
   "language": "python",
   "name": "python3"
  },
  "language_info": {
   "codemirror_mode": {
    "name": "ipython",
    "version": 3
   },
   "file_extension": ".py",
   "mimetype": "text/x-python",
   "name": "python",
   "nbconvert_exporter": "python",
   "pygments_lexer": "ipython3",
   "version": "3.6.9"
  }
 },
 "nbformat": 4,
 "nbformat_minor": 2
}
