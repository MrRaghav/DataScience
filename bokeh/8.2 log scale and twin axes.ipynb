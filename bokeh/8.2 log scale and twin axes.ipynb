{
 "cells": [
  {
   "cell_type": "markdown",
   "metadata": {},
   "source": [
    "reference:\n",
    "    \n",
    "https://www.tutorialspoint.com/bokeh/bokeh_axes.htm"
   ]
  },
  {
   "cell_type": "markdown",
   "metadata": {},
   "source": [
    "**Log Scale Axes**\n",
    "\n",
    "When values on one of the axes of a plot grow exponentially with linearly increasing values of another, it is often necessary to have the data on former axis be displayed on a log scale. \n",
    "\n",
    "For example, if there exists a **power law relationship** between x and y data series, it is desirable to use log scales on both axes.\n",
    "\n",
    "**Bokeh.plotting** API's **figure()** function accepts **x_axis_type** and **y_axis_type** as arguments which may be specified as log axis by passing \"log\" for the value of either of these parameters.\n",
    "\n",
    "First figure shows plot between x and 10x on a linear scale. In second figure y_axis_type is set to 'log'"
   ]
  },
  {
   "cell_type": "code",
   "execution_count": 1,
   "metadata": {},
   "outputs": [],
   "source": [
    "from bokeh.plotting import figure, output_file, show"
   ]
  },
  {
   "cell_type": "code",
   "execution_count": 2,
   "metadata": {},
   "outputs": [],
   "source": [
    "x = [0.1, 0.5, 1.0, 1.5, 2.0, 2.5, 3.0]\n",
    "y = [10**i for i in x]\n",
    "fig = figure(title = 'Linear scale example',plot_width = 400, plot_height = 400)\n",
    "fig.line(x, y, line_width = 2)\n",
    "output_file('8.2_linear_scale.html')\n",
    "show(fig)"
   ]
  },
  {
   "cell_type": "markdown",
   "metadata": {},
   "source": [
    "Now change figure() function to configure **y_axis_type=’log’**"
   ]
  },
  {
   "cell_type": "code",
   "execution_count": 3,
   "metadata": {},
   "outputs": [],
   "source": [
    "x = [0.1, 0.5, 1.0, 1.5, 2.0, 2.5, 3.0]\n",
    "y = [10**i for i in x]\n",
    "fig = figure(title = 'Linear scale example',plot_width = 400, plot_height = 400, y_axis_type = \"log\")\n",
    "fig.line(x, y, line_width = 2)\n",
    "output_file('8.2_linear_scale_y_axis_log.html')\n",
    "show(fig)"
   ]
  },
  {
   "cell_type": "markdown",
   "metadata": {},
   "source": [
    "**Twin Axes**\n",
    "\n",
    "In certain situations, it may be needed to show multiple axes representing varying ranges on a single plot figure. The figure object can be so configured by defining **extra_x_range** and **extra_y_range** properties. While adding new glyph to the figure, these named ranges are used.\n",
    "\n",
    "We try to display a sine curve and a straight line in same plot. Both glyphs have y axes with different ranges. The x and y data series for sine curve and line are obtained by the following −"
   ]
  },
  {
   "cell_type": "code",
   "execution_count": 8,
   "metadata": {},
   "outputs": [],
   "source": [
    "from numpy import pi, arange, sin, linspace\n",
    "from bokeh.models import Range1d"
   ]
  },
  {
   "cell_type": "code",
   "execution_count": 9,
   "metadata": {},
   "outputs": [],
   "source": [
    "x = arange(-2*pi, 2*pi, 0.1)\n",
    "y = sin(x)\n",
    "y2 = linspace(0, 100, len(y))"
   ]
  },
  {
   "cell_type": "markdown",
   "metadata": {},
   "source": [
    "Here, plot between x and y represents sine relation and plot between x and y2 is a straight line. The Figure object is defined with explicit y_range and a line glyph representing sine curve is added as follows −"
   ]
  },
  {
   "cell_type": "code",
   "execution_count": 16,
   "metadata": {},
   "outputs": [],
   "source": [
    "fig = figure(title = 'Twin Axis Example', y_range = (-1.1, 1.1))\n",
    "fig.line(x, y, color = \"red\")\n",
    "output_file('8.2_twinAxes.html')\n",
    "show(fig)"
   ]
  },
  {
   "cell_type": "markdown",
   "metadata": {},
   "source": [
    "We need an extra y range. It is defined as −"
   ]
  },
  {
   "cell_type": "code",
   "execution_count": 17,
   "metadata": {},
   "outputs": [],
   "source": [
    "fig.extra_y_ranges = {\"y2\": Range1d(start = 0, end = 100)}"
   ]
  },
  {
   "cell_type": "markdown",
   "metadata": {},
   "source": [
    "To add additional y axis on right side, use **add_layout()** method. Add a new line glyph representing x and y2 to the figure."
   ]
  },
  {
   "cell_type": "code",
   "execution_count": 18,
   "metadata": {},
   "outputs": [],
   "source": [
    "from bokeh.models.axes import LinearAxis\n",
    "\n",
    "fig.add_layout(LinearAxis(y_range_name = \"y2\"), 'right')\n",
    "fig.line(x, y2, color = \"blue\", y_range_name = \"y2\")\n",
    "output_file('8.2_twinAxes_line.html')\n",
    "show(fig)"
   ]
  },
  {
   "cell_type": "code",
   "execution_count": null,
   "metadata": {},
   "outputs": [],
   "source": []
  }
 ],
 "metadata": {
  "kernelspec": {
   "display_name": "Python 3",
   "language": "python",
   "name": "python3"
  },
  "language_info": {
   "codemirror_mode": {
    "name": "ipython",
    "version": 3
   },
   "file_extension": ".py",
   "mimetype": "text/x-python",
   "name": "python",
   "nbconvert_exporter": "python",
   "pygments_lexer": "ipython3",
   "version": "3.6.9"
  }
 },
 "nbformat": 4,
 "nbformat_minor": 2
}
