{
 "cells": [
  {
   "cell_type": "code",
   "execution_count": null,
   "metadata": {},
   "outputs": [],
   "source": []
  },
  {
   "cell_type": "markdown",
   "metadata": {},
   "source": [
    "reference:\n",
    "    \n",
    "https://www.tutorialspoint.com/bokeh/bokeh_server.htm"
   ]
  },
  {
   "cell_type": "code",
   "execution_count": 5,
   "metadata": {},
   "outputs": [],
   "source": [
    "import numpy as np\n",
    "from bokeh.io import curdoc\n",
    "from bokeh.layouts import row, column\n",
    "from bokeh.models import ColumnDataSource\n",
    "from bokeh.models.widgets import Slider, TextInput\n",
    "from bokeh.plotting import figure"
   ]
  },
  {
   "cell_type": "code",
   "execution_count": 6,
   "metadata": {},
   "outputs": [],
   "source": [
    "N = 200\n",
    "x = np.linspace(0, 4*np.pi, N)\n",
    "y = np.sin(x)\n",
    "source = ColumnDataSource(data = dict(x = x, y = y))\n",
    "plot = figure(plot_height = 400, plot_width = 400, title = \"sine wave\")\n",
    "plot.line('x', 'y', source = source, line_width = 3, line_alpha = 0.6)\n",
    "freq = Slider(title = \"frequency\", value = 1.0, start = 0.1, end = 5.1, step = 0.1)\n",
    "def update_data(attrname, old, new):\n",
    "   a = 1\n",
    "   b = 0\n",
    "   w = 0\n",
    "   k = freq.value\n",
    "   x = np.linspace(0, 4*np.pi, N)\n",
    "   y = a*np.sin(k*x + w) + b\n",
    "   source.data = dict(x = x, y = y)\n",
    "freq.on_change('value', update_data)\n",
    "curdoc().add_root(row(freq, plot, width = 500))\n",
    "curdoc().title = \"Sliders\""
   ]
  },
  {
   "cell_type": "markdown",
   "metadata": {},
   "source": [
    "**Now, open Anaconda command prompt and run below command in the directoty where your .py or .ipynb file is present**\n",
    "\n",
    "_bokeh serve --show 16_Server.ipynb_"
   ]
  },
  {
   "cell_type": "code",
   "execution_count": null,
   "metadata": {},
   "outputs": [],
   "source": []
  }
 ],
 "metadata": {
  "kernelspec": {
   "display_name": "Python 3",
   "language": "python",
   "name": "python3"
  },
  "language_info": {
   "codemirror_mode": {
    "name": "ipython",
    "version": 3
   },
   "file_extension": ".py",
   "mimetype": "text/x-python",
   "name": "python",
   "nbconvert_exporter": "python",
   "pygments_lexer": "ipython3",
   "version": "3.6.9"
  }
 },
 "nbformat": 4,
 "nbformat_minor": 2
}
