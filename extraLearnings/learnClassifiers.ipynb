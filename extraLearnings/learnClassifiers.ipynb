{
 "cells": [
  {
   "cell_type": "code",
   "execution_count": 2,
   "metadata": {},
   "outputs": [
    {
     "ename": "ImportError",
     "evalue": "cannot import name 'Tree' from 'sklearn' (C:\\Users\\Raghvendra\\Anaconda3\\lib\\site-packages\\sklearn\\__init__.py)",
     "output_type": "error",
     "traceback": [
      "\u001b[1;31m---------------------------------------------------------------------------\u001b[0m",
      "\u001b[1;31mImportError\u001b[0m                               Traceback (most recent call last)",
      "\u001b[1;32m<ipython-input-2-32daa3941fae>\u001b[0m in \u001b[0;36m<module>\u001b[1;34m\u001b[0m\n\u001b[0;32m      1\u001b[0m \u001b[1;32mimport\u001b[0m \u001b[0mnumpy\u001b[0m \u001b[1;32mas\u001b[0m \u001b[0mnp\u001b[0m\u001b[1;33m\u001b[0m\u001b[1;33m\u001b[0m\u001b[0m\n\u001b[1;32m----> 2\u001b[1;33m \u001b[1;32mfrom\u001b[0m \u001b[0msklearn\u001b[0m \u001b[1;32mimport\u001b[0m \u001b[0mTree\u001b[0m\u001b[1;33m\u001b[0m\u001b[1;33m\u001b[0m\u001b[0m\n\u001b[0m\u001b[0;32m      3\u001b[0m \u001b[1;32mfrom\u001b[0m \u001b[0msklearn\u001b[0m\u001b[1;33m.\u001b[0m\u001b[0mensemble\u001b[0m \u001b[1;32mimport\u001b[0m \u001b[0mrandomForestClassifier\u001b[0m\u001b[1;33m\u001b[0m\u001b[1;33m\u001b[0m\u001b[0m\n\u001b[0;32m      4\u001b[0m \u001b[1;32mfrom\u001b[0m \u001b[0msklearn\u001b[0m\u001b[1;33m.\u001b[0m\u001b[0msvm\u001b[0m \u001b[1;32mimport\u001b[0m \u001b[0msvc\u001b[0m\u001b[1;33m\u001b[0m\u001b[1;33m\u001b[0m\u001b[0m\n\u001b[0;32m      5\u001b[0m \u001b[1;32mfrom\u001b[0m \u001b[0msklearn\u001b[0m\u001b[1;33m.\u001b[0m\u001b[0mlinear_model\u001b[0m \u001b[1;32mimport\u001b[0m \u001b[0mlogisticRegression\u001b[0m\u001b[1;33m\u001b[0m\u001b[1;33m\u001b[0m\u001b[0m\n",
      "\u001b[1;31mImportError\u001b[0m: cannot import name 'Tree' from 'sklearn' (C:\\Users\\Raghvendra\\Anaconda3\\lib\\site-packages\\sklearn\\__init__.py)"
     ]
    }
   ],
   "source": [
    "import numpy as np\n",
    "from sklearn import Tree\n",
    "from sklearn.ensemble import randomForestClassifier\n",
    "from sklearn.svm import svc\n",
    "from sklearn.linear_model import logisticRegression\n",
    "from sklearn.metrics import accuracy_score"
   ]
  },
  {
   "cell_type": "code",
   "execution_count": 3,
   "metadata": {},
   "outputs": [
    {
     "name": "stdout",
     "output_type": "stream",
     "text": [
      "Requirement already satisfied: scikit-learn in c:\\users\\raghvendra\\anaconda3\\lib\\site-packages (0.21.2)\n",
      "Requirement already satisfied: numpy>=1.11.0 in c:\\users\\raghvendra\\anaconda3\\lib\\site-packages (from scikit-learn) (1.16.4)\n",
      "Requirement already satisfied: scipy>=0.17.0 in c:\\users\\raghvendra\\anaconda3\\lib\\site-packages (from scikit-learn) (1.2.1)\n",
      "Requirement already satisfied: joblib>=0.11 in c:\\users\\raghvendra\\anaconda3\\lib\\site-packages (from scikit-learn) (0.13.2)\n",
      "Note: you may need to restart the kernel to use updated packages.\n"
     ]
    }
   ],
   "source": [
    "pip install scikit-learn"
   ]
  },
  {
   "cell_type": "code",
   "execution_count": 4,
   "metadata": {},
   "outputs": [],
   "source": [
    "import numpy as np"
   ]
  },
  {
   "cell_type": "code",
   "execution_count": 5,
   "metadata": {},
   "outputs": [],
   "source": [
    "from sklearn import tree"
   ]
  },
  {
   "cell_type": "code",
   "execution_count": 6,
   "metadata": {},
   "outputs": [
    {
     "ename": "ImportError",
     "evalue": "cannot import name 'randomForestClassifier' from 'sklearn.ensemble' (C:\\Users\\Raghvendra\\Anaconda3\\lib\\site-packages\\sklearn\\ensemble\\__init__.py)",
     "output_type": "error",
     "traceback": [
      "\u001b[1;31m---------------------------------------------------------------------------\u001b[0m",
      "\u001b[1;31mImportError\u001b[0m                               Traceback (most recent call last)",
      "\u001b[1;32m<ipython-input-6-4fdb8e629424>\u001b[0m in \u001b[0;36m<module>\u001b[1;34m\u001b[0m\n\u001b[1;32m----> 1\u001b[1;33m \u001b[1;32mfrom\u001b[0m \u001b[0msklearn\u001b[0m\u001b[1;33m.\u001b[0m\u001b[0mensemble\u001b[0m \u001b[1;32mimport\u001b[0m \u001b[0mrandomForestClassifier\u001b[0m\u001b[1;33m\u001b[0m\u001b[1;33m\u001b[0m\u001b[0m\n\u001b[0m\u001b[0;32m      2\u001b[0m \u001b[1;32mfrom\u001b[0m \u001b[0msklearn\u001b[0m\u001b[1;33m.\u001b[0m\u001b[0msvm\u001b[0m \u001b[1;32mimport\u001b[0m \u001b[0msvc\u001b[0m\u001b[1;33m\u001b[0m\u001b[1;33m\u001b[0m\u001b[0m\n\u001b[0;32m      3\u001b[0m \u001b[1;32mfrom\u001b[0m \u001b[0msklearn\u001b[0m\u001b[1;33m.\u001b[0m\u001b[0mlinear_model\u001b[0m \u001b[1;32mimport\u001b[0m \u001b[0mlogisticRegression\u001b[0m\u001b[1;33m\u001b[0m\u001b[1;33m\u001b[0m\u001b[0m\n\u001b[0;32m      4\u001b[0m \u001b[1;32mfrom\u001b[0m \u001b[0msklearn\u001b[0m\u001b[1;33m.\u001b[0m\u001b[0mmetrics\u001b[0m \u001b[1;32mimport\u001b[0m \u001b[0maccuracy_score\u001b[0m\u001b[1;33m\u001b[0m\u001b[1;33m\u001b[0m\u001b[0m\n",
      "\u001b[1;31mImportError\u001b[0m: cannot import name 'randomForestClassifier' from 'sklearn.ensemble' (C:\\Users\\Raghvendra\\Anaconda3\\lib\\site-packages\\sklearn\\ensemble\\__init__.py)"
     ]
    }
   ],
   "source": [
    "from sklearn.ensemble import randomForestClassifier\n",
    "from sklearn.svm import svc\n",
    "from sklearn.linear_model import logisticRegression\n",
    "from sklearn.metrics import accuracy_score"
   ]
  },
  {
   "cell_type": "code",
   "execution_count": 7,
   "metadata": {},
   "outputs": [
    {
     "ename": "ImportError",
     "evalue": "cannot import name 'randomForestClassifier' from 'sklearn.ensemble' (C:\\Users\\Raghvendra\\Anaconda3\\lib\\site-packages\\sklearn\\ensemble\\__init__.py)",
     "output_type": "error",
     "traceback": [
      "\u001b[1;31m---------------------------------------------------------------------------\u001b[0m",
      "\u001b[1;31mImportError\u001b[0m                               Traceback (most recent call last)",
      "\u001b[1;32m<ipython-input-7-0b3f7fdbd9e9>\u001b[0m in \u001b[0;36m<module>\u001b[1;34m\u001b[0m\n\u001b[1;32m----> 1\u001b[1;33m \u001b[1;32mfrom\u001b[0m \u001b[0msklearn\u001b[0m\u001b[1;33m.\u001b[0m\u001b[0mensemble\u001b[0m \u001b[1;32mimport\u001b[0m \u001b[0mrandomForestClassifier\u001b[0m\u001b[1;33m\u001b[0m\u001b[1;33m\u001b[0m\u001b[0m\n\u001b[0m",
      "\u001b[1;31mImportError\u001b[0m: cannot import name 'randomForestClassifier' from 'sklearn.ensemble' (C:\\Users\\Raghvendra\\Anaconda3\\lib\\site-packages\\sklearn\\ensemble\\__init__.py)"
     ]
    }
   ],
   "source": [
    "from sklearn.ensemble import randomForestClassifier"
   ]
  },
  {
   "cell_type": "code",
   "execution_count": 8,
   "metadata": {},
   "outputs": [],
   "source": [
    "from sklearn.ensemble import RandomForestClassifier"
   ]
  },
  {
   "cell_type": "code",
   "execution_count": 9,
   "metadata": {},
   "outputs": [],
   "source": [
    "from sklearn.svm import SVC\n",
    "from sklearn.linear_model import LogisticRegression\n",
    "from sklearn.metrics import accuracy_score"
   ]
  },
  {
   "cell_type": "markdown",
   "metadata": {},
   "source": [
    "# below data is height (in cm, weight (in Kg) and shoe size"
   ]
  },
  {
   "cell_type": "code",
   "execution_count": 10,
   "metadata": {},
   "outputs": [
    {
     "ename": "SyntaxError",
     "evalue": "invalid character in identifier (<ipython-input-10-f060e428e382>, line 6)",
     "output_type": "error",
     "traceback": [
      "\u001b[1;36m  File \u001b[1;32m\"<ipython-input-10-f060e428e382>\"\u001b[1;36m, line \u001b[1;32m6\u001b[0m\n\u001b[1;33m    Y = [‘male’, ‘male’, ‘female’, ‘female’, ‘male’, ‘male’,\u001b[0m\n\u001b[1;37m              ^\u001b[0m\n\u001b[1;31mSyntaxError\u001b[0m\u001b[1;31m:\u001b[0m invalid character in identifier\n"
     ]
    }
   ],
   "source": [
    "X = [[192, 92, 46], [185, 85, 44], [165, 65, 38], \n",
    "     [152, 52, 37],[163, 63, 38], [195, 100, 47], [175, 75, 42],\n",
    "     [177, 80, 44], [159, 65, 37], [171, 90, 42], \n",
    "     [141, 60, 35], [168, 70, 43], [168, 72, 44]]\n",
    "\n",
    "Y = [‘male’, ‘male’, ‘female’, ‘female’, ‘male’, ‘male’, \n",
    "    ‘female’,‘female’,‘female’, ‘male’, ‘male’,\n",
    "     ‘female’, ‘female’]\n",
    "\n",
    "test_data = [[183, 87, 47],[172, 75, 42],[170,75,40]]\n",
    "test_labels = ['male','male','male']"
   ]
  },
  {
   "cell_type": "code",
   "execution_count": 11,
   "metadata": {},
   "outputs": [
    {
     "ename": "SyntaxError",
     "evalue": "invalid character in identifier (<ipython-input-11-5138a05562e7>, line 4)",
     "output_type": "error",
     "traceback": [
      "\u001b[1;36m  File \u001b[1;32m\"<ipython-input-11-5138a05562e7>\"\u001b[1;36m, line \u001b[1;32m4\u001b[0m\n\u001b[1;33m    Y = [‘male’, ‘male’, ‘female’, ‘female’, ‘male’, ‘male’, ‘female’,‘female’,‘female’, ‘male’, ‘male’, ‘female’, ‘female’]\u001b[0m\n\u001b[1;37m              ^\u001b[0m\n\u001b[1;31mSyntaxError\u001b[0m\u001b[1;31m:\u001b[0m invalid character in identifier\n"
     ]
    }
   ],
   "source": [
    "X = [[192, 92, 46],[185, 85, 44],[165, 65, 38],[152, 52, 37],[163, 63, 38],[195, 100, 47],[175, 75, 42],[177, 80, 44], [159, 65, 37], [171, 90, 42], \n",
    "     [141, 60, 35],[168, 70, 43],[168, 72, 44]]\n",
    "\n",
    "Y = [‘male’, ‘male’, ‘female’, ‘female’, ‘male’, ‘male’, ‘female’,‘female’,‘female’, ‘male’, ‘male’, ‘female’, ‘female’]\n",
    "\n",
    "test_data = [[183, 87, 47],[172, 75, 42],[170,75,40]]\n",
    "test_labels = ['male','male','male']"
   ]
  },
  {
   "cell_type": "code",
   "execution_count": 12,
   "metadata": {},
   "outputs": [],
   "source": [
    "X = [[192, 92, 46],[185, 85, 44],[165, 65, 38],[152, 52, 37],[163, 63, 38],[195, 100, 47],[175, 75, 42],[177, 80, 44], [159, 65, 37], [171, 90, 42], \n",
    "     [141, 60, 35],[168, 70, 43],[168, 72, 44]]\n",
    "\n",
    "Y = [\"male\"]"
   ]
  },
  {
   "cell_type": "code",
   "execution_count": 13,
   "metadata": {},
   "outputs": [],
   "source": [
    "Y = [\"male\",\"male\",\"female\",\"female\",\"male\",\"male\",\"female\",\"female\",\"female\",\"male\",\"male\",\"female\",\"female\"]"
   ]
  },
  {
   "cell_type": "code",
   "execution_count": 14,
   "metadata": {},
   "outputs": [],
   "source": [
    "test_data = [[183, 87, 47],[172, 75, 42],[170,75,40]]\n",
    "test_labels = [\"male\",\"male\",\"male\"]"
   ]
  },
  {
   "cell_type": "code",
   "execution_count": 15,
   "metadata": {},
   "outputs": [
    {
     "ename": "SyntaxError",
     "evalue": "Missing parentheses in call to 'print'. Did you mean print(dt_predict)? (<ipython-input-15-7fc6038f0f35>, line 5)",
     "output_type": "error",
     "traceback": [
      "\u001b[1;36m  File \u001b[1;32m\"<ipython-input-15-7fc6038f0f35>\"\u001b[1;36m, line \u001b[1;32m5\u001b[0m\n\u001b[1;33m    print dt_predict\u001b[0m\n\u001b[1;37m                   ^\u001b[0m\n\u001b[1;31mSyntaxError\u001b[0m\u001b[1;31m:\u001b[0m Missing parentheses in call to 'print'. Did you mean print(dt_predict)?\n"
     ]
    }
   ],
   "source": [
    "#DecisionTreeClassifier\n",
    "dt = tree.DecisionTreeClassifier()\n",
    "dt = dt.fit(X,Y)\n",
    "dt_predict = dt.predict(test_data)\n",
    "print dt_predict"
   ]
  },
  {
   "cell_type": "code",
   "execution_count": 16,
   "metadata": {},
   "outputs": [
    {
     "name": "stdout",
     "output_type": "stream",
     "text": [
      "['male' 'female' 'female']\n"
     ]
    }
   ],
   "source": [
    "#DecisionTreeClassifier\n",
    "dt = tree.DecisionTreeClassifier()\n",
    "dt = dt.fit(X,Y)\n",
    "dt_predict = dt.predict(test_data)\n",
    "print(dt_predict)"
   ]
  },
  {
   "cell_type": "code",
   "execution_count": 17,
   "metadata": {},
   "outputs": [
    {
     "name": "stdout",
     "output_type": "stream",
     "text": [
      "['male' 'female' 'female']\n"
     ]
    },
    {
     "name": "stderr",
     "output_type": "stream",
     "text": [
      "C:\\Users\\Raghvendra\\Anaconda3\\lib\\site-packages\\sklearn\\ensemble\\forest.py:245: FutureWarning: The default value of n_estimators will change from 10 in version 0.20 to 100 in 0.22.\n",
      "  \"10 in version 0.20 to 100 in 0.22.\", FutureWarning)\n"
     ]
    }
   ],
   "source": [
    "#RandomForestClassifier\n",
    "rf = RandomForestClassifier()\n",
    "rf = rf.fit(X,Y)\n",
    "rf_predict = rf.predict(test_data)\n",
    "print(rf_predict)"
   ]
  },
  {
   "cell_type": "code",
   "execution_count": 18,
   "metadata": {},
   "outputs": [
    {
     "name": "stdout",
     "output_type": "stream",
     "text": [
      "['female' 'female' 'female']\n"
     ]
    },
    {
     "name": "stderr",
     "output_type": "stream",
     "text": [
      "C:\\Users\\Raghvendra\\Anaconda3\\lib\\site-packages\\sklearn\\svm\\base.py:193: FutureWarning: The default value of gamma will change from 'auto' to 'scale' in version 0.22 to account better for unscaled features. Set gamma explicitly to 'auto' or 'scale' to avoid this warning.\n",
      "  \"avoid this warning.\", FutureWarning)\n"
     ]
    }
   ],
   "source": [
    "#Support Vector Classifier\n",
    "svc = SVC()\n",
    "svc = svc.fit(X,Y)\n",
    "svc_predict = svc.predict(test_data)\n",
    "print(svc_predict)"
   ]
  },
  {
   "cell_type": "code",
   "execution_count": 19,
   "metadata": {},
   "outputs": [
    {
     "name": "stderr",
     "output_type": "stream",
     "text": [
      "C:\\Users\\Raghvendra\\Anaconda3\\lib\\site-packages\\sklearn\\linear_model\\logistic.py:432: FutureWarning: Default solver will be changed to 'lbfgs' in 0.22. Specify a solver to silence this warning.\n",
      "  FutureWarning)\n"
     ]
    },
    {
     "name": "stdout",
     "output_type": "stream",
     "text": [
      "['male' 'female' 'male']\n"
     ]
    }
   ],
   "source": [
    "#LogisticRegression\n",
    "lr = LogisticRegression()\n",
    "lr.fit(X,Y)\n",
    "lr_predict = lr.predict(test_data)\n",
    "print(lr_predict)"
   ]
  },
  {
   "cell_type": "code",
   "execution_count": 20,
   "metadata": {},
   "outputs": [],
   "source": [
    "#accuracy scores\n",
    "dt_ac = accuracy_score(dt_predict,test_labels)\n",
    "rf_ac = accuracy_score(rf_predict,test_labels)\n",
    "lr_ac = accuracy_score(lr_predict,test_labels)\n",
    "svc_ac = accuracy_score(svc_predict,test_labels)"
   ]
  },
  {
   "cell_type": "code",
   "execution_count": 21,
   "metadata": {},
   "outputs": [
    {
     "ename": "NameError",
     "evalue": "name 'max_acc' is not defined",
     "output_type": "error",
     "traceback": [
      "\u001b[1;31m---------------------------------------------------------------------------\u001b[0m",
      "\u001b[1;31mNameError\u001b[0m                                 Traceback (most recent call last)",
      "\u001b[1;32m<ipython-input-21-31b7ba474577>\u001b[0m in \u001b[0;36m<module>\u001b[1;34m\u001b[0m\n\u001b[0;32m      2\u001b[0m \u001b[0maccuracy\u001b[0m \u001b[1;33m=\u001b[0m \u001b[0mnp\u001b[0m\u001b[1;33m.\u001b[0m\u001b[0marray\u001b[0m\u001b[1;33m(\u001b[0m\u001b[1;33m[\u001b[0m\u001b[0mdt_ac\u001b[0m\u001b[1;33m,\u001b[0m \u001b[0mrf_ac\u001b[0m\u001b[1;33m,\u001b[0m \u001b[0mlr_ac\u001b[0m\u001b[1;33m,\u001b[0m \u001b[0msvc_ac\u001b[0m\u001b[1;33m]\u001b[0m\u001b[1;33m)\u001b[0m\u001b[1;33m\u001b[0m\u001b[1;33m\u001b[0m\u001b[0m\n\u001b[0;32m      3\u001b[0m \u001b[0mmax_ac\u001b[0m \u001b[1;33m=\u001b[0m \u001b[0mnp\u001b[0m\u001b[1;33m.\u001b[0m\u001b[0margmax\u001b[0m\u001b[1;33m(\u001b[0m\u001b[0maccuracy\u001b[0m\u001b[1;33m)\u001b[0m\u001b[1;33m\u001b[0m\u001b[1;33m\u001b[0m\u001b[0m\n\u001b[1;32m----> 4\u001b[1;33m \u001b[0mprint\u001b[0m\u001b[1;33m(\u001b[0m\u001b[0mclassifiers\u001b[0m\u001b[1;33m[\u001b[0m\u001b[0mmax_acc\u001b[0m\u001b[1;33m]\u001b[0m \u001b[1;33m+\u001b[0m \u001b[1;34m' is the best classifier for this problem'\u001b[0m\u001b[1;33m)\u001b[0m\u001b[1;33m\u001b[0m\u001b[1;33m\u001b[0m\u001b[0m\n\u001b[0m",
      "\u001b[1;31mNameError\u001b[0m: name 'max_acc' is not defined"
     ]
    }
   ],
   "source": [
    "classifiers = ['Decision Tree', 'Random Forest', 'Logistic Regression' , 'SVC']\n",
    "accuracy = np.array([dt_ac, rf_ac, lr_ac, svc_ac])\n",
    "max_ac = np.argmax(accuracy)\n",
    "print(classifiers[max_acc] + ' is the best classifier for this problem')"
   ]
  },
  {
   "cell_type": "code",
   "execution_count": 22,
   "metadata": {},
   "outputs": [
    {
     "name": "stdout",
     "output_type": "stream",
     "text": [
      "Logistic Regression is the best classifier for this problem\n"
     ]
    }
   ],
   "source": [
    "classifiers = ['Decision Tree', 'Random Forest', 'Logistic Regression' , 'SVC']\n",
    "accuracy = np.array([dt_ac, rf_ac, lr_ac, svc_ac])\n",
    "max_ac = np.argmax(accuracy)\n",
    "print(classifiers[max_ac] + ' is the best classifier for this problem')"
   ]
  },
  {
   "cell_type": "markdown",
   "metadata": {},
   "source": [
    "Now, checking on actual data"
   ]
  },
  {
   "cell_type": "code",
   "execution_count": 23,
   "metadata": {},
   "outputs": [
    {
     "name": "stdout",
     "output_type": "stream",
     "text": [
      "['male' 'male' 'female' 'female' 'female' 'male' 'female' 'female'\n",
      " 'female' 'male' 'female' 'female' 'female']\n",
      "0.8461538461538461\n"
     ]
    }
   ],
   "source": [
    "lr_predict = lr.predict(X)\n",
    "print(lr_predict)\n",
    "lr_ac = accuracy_score(lr_predict,Y)\n",
    "print(lr_ac)"
   ]
  },
  {
   "cell_type": "code",
   "execution_count": 24,
   "metadata": {},
   "outputs": [
    {
     "name": "stdout",
     "output_type": "stream",
     "text": [
      "['male' 'male' 'female' 'female' 'male' 'male' 'female' 'female' 'female'\n",
      " 'male' 'male' 'female' 'female']\n",
      "1.0\n"
     ]
    }
   ],
   "source": [
    "dt_predict = dt.predict(X)\n",
    "print(dt_predict)\n",
    "dt_ac = accuracy_score(dt_predict,Y)\n",
    "print(dt_ac)"
   ]
  },
  {
   "cell_type": "code",
   "execution_count": 25,
   "metadata": {},
   "outputs": [
    {
     "name": "stdout",
     "output_type": "stream",
     "text": [
      "['male' 'female' 'female' 'female' 'male' 'male' 'female' 'female'\n",
      " 'female' 'male' 'male' 'female' 'female']\n",
      "0.9230769230769231\n"
     ]
    }
   ],
   "source": [
    "rf_predict = rf.predict(X)\n",
    "print(rf_predict)\n",
    "rf_ac = accuracy_score(rf_predict,Y)\n",
    "print(rf_ac)"
   ]
  },
  {
   "cell_type": "code",
   "execution_count": 26,
   "metadata": {},
   "outputs": [
    {
     "name": "stdout",
     "output_type": "stream",
     "text": [
      "['male' 'male' 'female' 'female' 'male' 'male' 'female' 'female' 'female'\n",
      " 'male' 'male' 'female' 'female']\n",
      "1.0\n"
     ]
    }
   ],
   "source": [
    "svc_predict = svc.predict(X)\n",
    "print(svc_predict)\n",
    "svc_ac = accuracy_score(svc_predict,Y)\n",
    "print(svc_ac)"
   ]
  },
  {
   "cell_type": "markdown",
   "metadata": {},
   "source": [
    "On actual data, RANDOM FOREST and SVM performed better"
   ]
  }
 ],
 "metadata": {
  "kernelspec": {
   "display_name": "Python 3",
   "language": "python",
   "name": "python3"
  },
  "language_info": {
   "codemirror_mode": {
    "name": "ipython",
    "version": 3
   },
   "file_extension": ".py",
   "mimetype": "text/x-python",
   "name": "python",
   "nbconvert_exporter": "python",
   "pygments_lexer": "ipython3",
   "version": "3.7.4"
  }
 },
 "nbformat": 4,
 "nbformat_minor": 4
}
