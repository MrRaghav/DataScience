{
 "cells": [
  {
   "cell_type": "markdown",
   "metadata": {},
   "source": [
    "https://stackoverflow.com/questions/23999801/python-creating-multiple-lists"
   ]
  },
  {
   "cell_type": "markdown",
   "metadata": {},
   "source": [
    "I found above suggestion while I was working on one of the problems.\n",
    "\n",
    "*How can we use this?*\n",
    "\n",
    "Imagine a situation where you have to create m_cross_m matrix from a single column containing more than 1 million records, which exceeds the value of maximum rows in excel (example could be 4000*4000). This dictionary can be created and later, we can save it to csv, use the value column to remove square brackets and save it after delimiting with , (comma).\n",
    "\n",
    "This is the way which I pondered. Any changes and suggestions will be welcomed."
   ]
  },
  {
   "cell_type": "code",
   "execution_count": 5,
   "metadata": {},
   "outputs": [],
   "source": [
    "dict = {}\n",
    "\n",
    "for i in range(10):\n",
    "    dict['list'+str(i)]=[]\n",
    "    for j in range(i):\n",
    "        dict['list'+str(i)].append([1,2,3])        "
   ]
  },
  {
   "cell_type": "code",
   "execution_count": 6,
   "metadata": {},
   "outputs": [
    {
     "data": {
      "text/plain": [
       "{'list0': [],\n",
       " 'list1': [[1, 2, 3]],\n",
       " 'list2': [[1, 2, 3], [1, 2, 3]],\n",
       " 'list3': [[1, 2, 3], [1, 2, 3], [1, 2, 3]],\n",
       " 'list4': [[1, 2, 3], [1, 2, 3], [1, 2, 3], [1, 2, 3]],\n",
       " 'list5': [[1, 2, 3], [1, 2, 3], [1, 2, 3], [1, 2, 3], [1, 2, 3]],\n",
       " 'list6': [[1, 2, 3], [1, 2, 3], [1, 2, 3], [1, 2, 3], [1, 2, 3], [1, 2, 3]],\n",
       " 'list7': [[1, 2, 3],\n",
       "  [1, 2, 3],\n",
       "  [1, 2, 3],\n",
       "  [1, 2, 3],\n",
       "  [1, 2, 3],\n",
       "  [1, 2, 3],\n",
       "  [1, 2, 3]],\n",
       " 'list8': [[1, 2, 3],\n",
       "  [1, 2, 3],\n",
       "  [1, 2, 3],\n",
       "  [1, 2, 3],\n",
       "  [1, 2, 3],\n",
       "  [1, 2, 3],\n",
       "  [1, 2, 3],\n",
       "  [1, 2, 3]],\n",
       " 'list9': [[1, 2, 3],\n",
       "  [1, 2, 3],\n",
       "  [1, 2, 3],\n",
       "  [1, 2, 3],\n",
       "  [1, 2, 3],\n",
       "  [1, 2, 3],\n",
       "  [1, 2, 3],\n",
       "  [1, 2, 3],\n",
       "  [1, 2, 3]]}"
      ]
     },
     "execution_count": 6,
     "metadata": {},
     "output_type": "execute_result"
    }
   ],
   "source": [
    "#print the dictionary\n",
    "dict"
   ]
  }
 ],
 "metadata": {
  "kernelspec": {
   "display_name": "Python 3",
   "language": "python",
   "name": "python3"
  },
  "language_info": {
   "codemirror_mode": {
    "name": "ipython",
    "version": 3
   },
   "file_extension": ".py",
   "mimetype": "text/x-python",
   "name": "python",
   "nbconvert_exporter": "python",
   "pygments_lexer": "ipython3",
   "version": "3.6.9"
  }
 },
 "nbformat": 4,
 "nbformat_minor": 2
}
