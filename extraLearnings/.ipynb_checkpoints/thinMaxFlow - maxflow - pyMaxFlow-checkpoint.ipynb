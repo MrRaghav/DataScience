{
 "cells": [
  {
   "cell_type": "markdown",
   "metadata": {},
   "source": [
    "reference->\n",
    "https://pypi.org/project/thinmaxflow/\n",
    "\n",
    "\n",
    "\n",
    "to install, run following command-> pip install thinmaxflow"
   ]
  },
  {
   "cell_type": "code",
   "execution_count": 7,
   "metadata": {},
   "outputs": [
    {
     "name": "stdout",
     "output_type": "stream",
     "text": [
      "0\n",
      "Node 0 belongs to segment 0.\n",
      "Node 1 belongs to segment 1.\n",
      "Node 2 belongs to segment 0.\n",
      "Node 3 belongs to segment 0.\n",
      "Maximum flow: 3.0\n"
     ]
    }
   ],
   "source": [
    "import thinmaxflow as tmf\n",
    "\n",
    "# Create graph object.\n",
    "#graph = tmf.GraphInt()\n",
    "graph = tmf.GraphFloat()\n",
    "\n",
    "\n",
    "# Number of nodes to add, remember, count will start from 0\n",
    "nodes_to_add = 4\n",
    "\n",
    "# Add two nodes.\n",
    "first_node_id = graph.add_node(nodes_to_add)\n",
    "print(first_node_id)\n",
    "\n",
    "# Add edges, add_tweights has parameters of (node_id, source, sink)\n",
    "\n",
    "graph.add_tweights(0, 5, 0) # s     --5->   n(0)\n",
    "graph.add_tweights(0, 0, 1) # n(0)  --1->   t\n",
    "graph.add_tweights(1, 0, 3) # n(1)  --3->   t\n",
    "\n",
    "# below function has parameters of (node id, node id, capacity, rev_capacity)\n",
    "\n",
    "graph.add_edge(0, 1, 2, 1)  # n(0)  --2->   n(1)\n",
    "                            # n(1)  --1->   n(0)\n",
    "\n",
    "# Find maxflow/cut graph.\n",
    "flow = graph.maxflow()\n",
    "\n",
    "for n in range(nodes_to_add):\n",
    "    segment = graph.what_segment(n)\n",
    "    print('Node %d belongs to segment %d.' % (n, segment))\n",
    "# Node 0 belongs to segment 0.\n",
    "# Node 1 belongs to segment 1.\n",
    "\n",
    "print('Maximum flow: %s' % flow)\n",
    "# Maximum flow: 3"
   ]
  },
  {
   "cell_type": "code",
   "execution_count": null,
   "metadata": {},
   "outputs": [],
   "source": []
  }
 ],
 "metadata": {
  "kernelspec": {
   "display_name": "Python 3",
   "language": "python",
   "name": "python3"
  },
  "language_info": {
   "codemirror_mode": {
    "name": "ipython",
    "version": 3
   },
   "file_extension": ".py",
   "mimetype": "text/x-python",
   "name": "python",
   "nbconvert_exporter": "python",
   "pygments_lexer": "ipython3",
   "version": "3.6.9"
  }
 },
 "nbformat": 4,
 "nbformat_minor": 2
}
